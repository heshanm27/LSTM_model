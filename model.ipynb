{
 "cells": [
  {
   "cell_type": "code",
   "execution_count": 39,
   "id": "a6f9a33f-ca88-4533-b13d-9bc21e96da3e",
   "metadata": {},
   "outputs": [
    {
     "name": "stdout",
     "output_type": "stream",
     "text": [
      "Requirement already satisfied: tensorflow in c:\\users\\asus\\appdata\\local\\programs\\python\\python311\\lib\\site-packages (2.13.0)\n",
      "Requirement already satisfied: opencv-python in c:\\users\\asus\\appdata\\local\\programs\\python\\python311\\lib\\site-packages (4.8.0.76)\n",
      "Requirement already satisfied: mediapipe in c:\\users\\asus\\appdata\\local\\programs\\python\\python311\\lib\\site-packages (0.10.3)\n",
      "Requirement already satisfied: sklearn in c:\\users\\asus\\appdata\\local\\programs\\python\\python311\\lib\\site-packages (0.0.post7)\n",
      "Requirement already satisfied: matplotlib in c:\\users\\asus\\appdata\\local\\programs\\python\\python311\\lib\\site-packages (3.7.2)\n",
      "Requirement already satisfied: pillow in c:\\users\\asus\\appdata\\local\\programs\\python\\python311\\lib\\site-packages (10.0.0)\n",
      "Requirement already satisfied: tensorflow-intel==2.13.0 in c:\\users\\asus\\appdata\\local\\programs\\python\\python311\\lib\\site-packages (from tensorflow) (2.13.0)\n",
      "Requirement already satisfied: absl-py>=1.0.0 in c:\\users\\asus\\appdata\\local\\programs\\python\\python311\\lib\\site-packages (from tensorflow-intel==2.13.0->tensorflow) (1.4.0)\n",
      "Requirement already satisfied: astunparse>=1.6.0 in c:\\users\\asus\\appdata\\local\\programs\\python\\python311\\lib\\site-packages (from tensorflow-intel==2.13.0->tensorflow) (1.6.3)\n",
      "Requirement already satisfied: flatbuffers>=23.1.21 in c:\\users\\asus\\appdata\\local\\programs\\python\\python311\\lib\\site-packages (from tensorflow-intel==2.13.0->tensorflow) (23.5.26)\n",
      "Requirement already satisfied: gast<=0.4.0,>=0.2.1 in c:\\users\\asus\\appdata\\local\\programs\\python\\python311\\lib\\site-packages (from tensorflow-intel==2.13.0->tensorflow) (0.4.0)\n",
      "Requirement already satisfied: google-pasta>=0.1.1 in c:\\users\\asus\\appdata\\local\\programs\\python\\python311\\lib\\site-packages (from tensorflow-intel==2.13.0->tensorflow) (0.2.0)\n",
      "Requirement already satisfied: h5py>=2.9.0 in c:\\users\\asus\\appdata\\local\\programs\\python\\python311\\lib\\site-packages (from tensorflow-intel==2.13.0->tensorflow) (3.9.0)\n",
      "Requirement already satisfied: libclang>=13.0.0 in c:\\users\\asus\\appdata\\local\\programs\\python\\python311\\lib\\site-packages (from tensorflow-intel==2.13.0->tensorflow) (16.0.6)\n",
      "Requirement already satisfied: numpy<=1.24.3,>=1.22 in c:\\users\\asus\\appdata\\local\\programs\\python\\python311\\lib\\site-packages (from tensorflow-intel==2.13.0->tensorflow) (1.24.3)\n",
      "Requirement already satisfied: opt-einsum>=2.3.2 in c:\\users\\asus\\appdata\\local\\programs\\python\\python311\\lib\\site-packages (from tensorflow-intel==2.13.0->tensorflow) (3.3.0)\n",
      "Requirement already satisfied: packaging in c:\\users\\asus\\appdata\\local\\programs\\python\\python311\\lib\\site-packages (from tensorflow-intel==2.13.0->tensorflow) (23.1)\n",
      "Requirement already satisfied: protobuf!=4.21.0,!=4.21.1,!=4.21.2,!=4.21.3,!=4.21.4,!=4.21.5,<5.0.0dev,>=3.20.3 in c:\\users\\asus\\appdata\\local\\programs\\python\\python311\\lib\\site-packages (from tensorflow-intel==2.13.0->tensorflow) (3.20.3)\n",
      "Requirement already satisfied: setuptools in c:\\users\\asus\\appdata\\local\\programs\\python\\python311\\lib\\site-packages (from tensorflow-intel==2.13.0->tensorflow) (65.5.0)\n",
      "Requirement already satisfied: six>=1.12.0 in c:\\users\\asus\\appdata\\local\\programs\\python\\python311\\lib\\site-packages (from tensorflow-intel==2.13.0->tensorflow) (1.16.0)\n",
      "Requirement already satisfied: termcolor>=1.1.0 in c:\\users\\asus\\appdata\\local\\programs\\python\\python311\\lib\\site-packages (from tensorflow-intel==2.13.0->tensorflow) (2.3.0)\n",
      "Requirement already satisfied: typing-extensions<4.6.0,>=3.6.6 in c:\\users\\asus\\appdata\\local\\programs\\python\\python311\\lib\\site-packages (from tensorflow-intel==2.13.0->tensorflow) (4.5.0)\n",
      "Requirement already satisfied: wrapt>=1.11.0 in c:\\users\\asus\\appdata\\local\\programs\\python\\python311\\lib\\site-packages (from tensorflow-intel==2.13.0->tensorflow) (1.15.0)\n",
      "Requirement already satisfied: grpcio<2.0,>=1.24.3 in c:\\users\\asus\\appdata\\local\\programs\\python\\python311\\lib\\site-packages (from tensorflow-intel==2.13.0->tensorflow) (1.57.0)\n",
      "Requirement already satisfied: tensorboard<2.14,>=2.13 in c:\\users\\asus\\appdata\\local\\programs\\python\\python311\\lib\\site-packages (from tensorflow-intel==2.13.0->tensorflow) (2.13.0)\n",
      "Requirement already satisfied: tensorflow-estimator<2.14,>=2.13.0 in c:\\users\\asus\\appdata\\local\\programs\\python\\python311\\lib\\site-packages (from tensorflow-intel==2.13.0->tensorflow) (2.13.0)\n",
      "Requirement already satisfied: keras<2.14,>=2.13.1 in c:\\users\\asus\\appdata\\local\\programs\\python\\python311\\lib\\site-packages (from tensorflow-intel==2.13.0->tensorflow) (2.13.1)\n",
      "Requirement already satisfied: tensorflow-io-gcs-filesystem>=0.23.1 in c:\\users\\asus\\appdata\\local\\programs\\python\\python311\\lib\\site-packages (from tensorflow-intel==2.13.0->tensorflow) (0.31.0)\n",
      "Requirement already satisfied: attrs>=19.1.0 in c:\\users\\asus\\appdata\\local\\programs\\python\\python311\\lib\\site-packages (from mediapipe) (23.1.0)\n",
      "Requirement already satisfied: opencv-contrib-python in c:\\users\\asus\\appdata\\local\\programs\\python\\python311\\lib\\site-packages (from mediapipe) (4.8.0.76)\n",
      "Requirement already satisfied: sounddevice>=0.4.4 in c:\\users\\asus\\appdata\\local\\programs\\python\\python311\\lib\\site-packages (from mediapipe) (0.4.6)\n",
      "Requirement already satisfied: contourpy>=1.0.1 in c:\\users\\asus\\appdata\\local\\programs\\python\\python311\\lib\\site-packages (from matplotlib) (1.1.0)\n",
      "Requirement already satisfied: cycler>=0.10 in c:\\users\\asus\\appdata\\local\\programs\\python\\python311\\lib\\site-packages (from matplotlib) (0.11.0)\n",
      "Requirement already satisfied: fonttools>=4.22.0 in c:\\users\\asus\\appdata\\local\\programs\\python\\python311\\lib\\site-packages (from matplotlib) (4.42.1)\n",
      "Requirement already satisfied: kiwisolver>=1.0.1 in c:\\users\\asus\\appdata\\local\\programs\\python\\python311\\lib\\site-packages (from matplotlib) (1.4.5)\n",
      "Requirement already satisfied: pyparsing<3.1,>=2.3.1 in c:\\users\\asus\\appdata\\local\\programs\\python\\python311\\lib\\site-packages (from matplotlib) (3.0.9)\n",
      "Requirement already satisfied: python-dateutil>=2.7 in c:\\users\\asus\\appdata\\local\\programs\\python\\python311\\lib\\site-packages (from matplotlib) (2.8.2)\n",
      "Requirement already satisfied: CFFI>=1.0 in c:\\users\\asus\\appdata\\local\\programs\\python\\python311\\lib\\site-packages (from sounddevice>=0.4.4->mediapipe) (1.15.1)\n",
      "Requirement already satisfied: wheel<1.0,>=0.23.0 in c:\\users\\asus\\appdata\\local\\programs\\python\\python311\\lib\\site-packages (from astunparse>=1.6.0->tensorflow-intel==2.13.0->tensorflow) (0.41.2)\n",
      "Requirement already satisfied: pycparser in c:\\users\\asus\\appdata\\local\\programs\\python\\python311\\lib\\site-packages (from CFFI>=1.0->sounddevice>=0.4.4->mediapipe) (2.21)\n",
      "Requirement already satisfied: google-auth<3,>=1.6.3 in c:\\users\\asus\\appdata\\local\\programs\\python\\python311\\lib\\site-packages (from tensorboard<2.14,>=2.13->tensorflow-intel==2.13.0->tensorflow) (2.22.0)\n",
      "Requirement already satisfied: google-auth-oauthlib<1.1,>=0.5 in c:\\users\\asus\\appdata\\local\\programs\\python\\python311\\lib\\site-packages (from tensorboard<2.14,>=2.13->tensorflow-intel==2.13.0->tensorflow) (1.0.0)\n",
      "Requirement already satisfied: markdown>=2.6.8 in c:\\users\\asus\\appdata\\local\\programs\\python\\python311\\lib\\site-packages (from tensorboard<2.14,>=2.13->tensorflow-intel==2.13.0->tensorflow) (3.4.4)\n",
      "Requirement already satisfied: requests<3,>=2.21.0 in c:\\users\\asus\\appdata\\local\\programs\\python\\python311\\lib\\site-packages (from tensorboard<2.14,>=2.13->tensorflow-intel==2.13.0->tensorflow) (2.31.0)\n",
      "Requirement already satisfied: tensorboard-data-server<0.8.0,>=0.7.0 in c:\\users\\asus\\appdata\\local\\programs\\python\\python311\\lib\\site-packages (from tensorboard<2.14,>=2.13->tensorflow-intel==2.13.0->tensorflow) (0.7.1)\n",
      "Requirement already satisfied: werkzeug>=1.0.1 in c:\\users\\asus\\appdata\\local\\programs\\python\\python311\\lib\\site-packages (from tensorboard<2.14,>=2.13->tensorflow-intel==2.13.0->tensorflow) (2.3.7)\n",
      "Requirement already satisfied: cachetools<6.0,>=2.0.0 in c:\\users\\asus\\appdata\\local\\programs\\python\\python311\\lib\\site-packages (from google-auth<3,>=1.6.3->tensorboard<2.14,>=2.13->tensorflow-intel==2.13.0->tensorflow) (5.3.1)\n",
      "Requirement already satisfied: pyasn1-modules>=0.2.1 in c:\\users\\asus\\appdata\\local\\programs\\python\\python311\\lib\\site-packages (from google-auth<3,>=1.6.3->tensorboard<2.14,>=2.13->tensorflow-intel==2.13.0->tensorflow) (0.3.0)\n",
      "Requirement already satisfied: rsa<5,>=3.1.4 in c:\\users\\asus\\appdata\\local\\programs\\python\\python311\\lib\\site-packages (from google-auth<3,>=1.6.3->tensorboard<2.14,>=2.13->tensorflow-intel==2.13.0->tensorflow) (4.9)\n",
      "Requirement already satisfied: urllib3<2.0 in c:\\users\\asus\\appdata\\local\\programs\\python\\python311\\lib\\site-packages (from google-auth<3,>=1.6.3->tensorboard<2.14,>=2.13->tensorflow-intel==2.13.0->tensorflow) (1.26.16)\n",
      "Requirement already satisfied: requests-oauthlib>=0.7.0 in c:\\users\\asus\\appdata\\local\\programs\\python\\python311\\lib\\site-packages (from google-auth-oauthlib<1.1,>=0.5->tensorboard<2.14,>=2.13->tensorflow-intel==2.13.0->tensorflow) (1.3.1)\n",
      "Requirement already satisfied: charset-normalizer<4,>=2 in c:\\users\\asus\\appdata\\local\\programs\\python\\python311\\lib\\site-packages (from requests<3,>=2.21.0->tensorboard<2.14,>=2.13->tensorflow-intel==2.13.0->tensorflow) (3.2.0)\n",
      "Requirement already satisfied: idna<4,>=2.5 in c:\\users\\asus\\appdata\\local\\programs\\python\\python311\\lib\\site-packages (from requests<3,>=2.21.0->tensorboard<2.14,>=2.13->tensorflow-intel==2.13.0->tensorflow) (3.4)\n",
      "Requirement already satisfied: certifi>=2017.4.17 in c:\\users\\asus\\appdata\\local\\programs\\python\\python311\\lib\\site-packages (from requests<3,>=2.21.0->tensorboard<2.14,>=2.13->tensorflow-intel==2.13.0->tensorflow) (2023.7.22)\n",
      "Requirement already satisfied: MarkupSafe>=2.1.1 in c:\\users\\asus\\appdata\\local\\programs\\python\\python311\\lib\\site-packages (from werkzeug>=1.0.1->tensorboard<2.14,>=2.13->tensorflow-intel==2.13.0->tensorflow) (2.1.3)\n",
      "Requirement already satisfied: pyasn1<0.6.0,>=0.4.6 in c:\\users\\asus\\appdata\\local\\programs\\python\\python311\\lib\\site-packages (from pyasn1-modules>=0.2.1->google-auth<3,>=1.6.3->tensorboard<2.14,>=2.13->tensorflow-intel==2.13.0->tensorflow) (0.5.0)\n",
      "Requirement already satisfied: oauthlib>=3.0.0 in c:\\users\\asus\\appdata\\local\\programs\\python\\python311\\lib\\site-packages (from requests-oauthlib>=0.7.0->google-auth-oauthlib<1.1,>=0.5->tensorboard<2.14,>=2.13->tensorflow-intel==2.13.0->tensorflow) (3.2.2)\n"
     ]
    }
   ],
   "source": [
    "!pip install tensorflow  opencv-python mediapipe sklearn matplotlib pillow"
   ]
  },
  {
   "cell_type": "code",
   "execution_count": 40,
   "id": "a3cfcaa5-97f4-46fe-a777-aef34b81100c",
   "metadata": {},
   "outputs": [
    {
     "name": "stdout",
     "output_type": "stream",
     "text": [
      "Requirement already satisfied: pysocks in c:\\users\\asus\\appdata\\local\\programs\\python\\python311\\lib\\site-packages (1.7.1)\n",
      "Requirement already satisfied: scikit-learn in c:\\users\\asus\\appdata\\local\\programs\\python\\python311\\lib\\site-packages (1.3.2)\n",
      "Requirement already satisfied: numpy<2.0,>=1.17.3 in c:\\users\\asus\\appdata\\local\\programs\\python\\python311\\lib\\site-packages (from scikit-learn) (1.24.3)\n",
      "Requirement already satisfied: scipy>=1.5.0 in c:\\users\\asus\\appdata\\local\\programs\\python\\python311\\lib\\site-packages (from scikit-learn) (1.11.3)\n",
      "Requirement already satisfied: joblib>=1.1.1 in c:\\users\\asus\\appdata\\local\\programs\\python\\python311\\lib\\site-packages (from scikit-learn) (1.3.2)\n",
      "Requirement already satisfied: threadpoolctl>=2.0.0 in c:\\users\\asus\\appdata\\local\\programs\\python\\python311\\lib\\site-packages (from scikit-learn) (3.2.0)\n",
      "Note: you may need to restart the kernel to use updated packages.\n"
     ]
    }
   ],
   "source": [
    "pip install pysocks scikit-learn  "
   ]
  },
  {
   "cell_type": "code",
   "execution_count": 120,
   "id": "47c3ca77-3a66-4a23-a2b3-9949d5c07dae",
   "metadata": {},
   "outputs": [],
   "source": [
    "import cv2\n",
    "import numpy as np\n",
    "import os\n",
    "from matplotlib import pyplot as plt\n",
    "import time\n",
    "import mediapipe as mp\n",
    "from PIL import Image, ImageDraw, ImageFont\n",
    "import datetime"
   ]
  },
  {
   "cell_type": "code",
   "execution_count": 121,
   "id": "92685b2e-4045-470b-9152-249bed13b3cb",
   "metadata": {},
   "outputs": [],
   "source": [
    "from sklearn.model_selection import train_test_split\n",
    "from tensorflow.keras.utils import to_categorical\n",
    "import tensorflow as tf"
   ]
  },
  {
   "cell_type": "code",
   "execution_count": 122,
   "id": "0eed04bf-e077-4537-823b-83ab737569aa",
   "metadata": {},
   "outputs": [],
   "source": [
    "# Path for exported data, numpy arrays\n",
    "DATA_PATH = os.path.join('MP_Data') \n",
    "current_directory = os.getcwd()\n",
    "# Actions that we try to detect\n",
    "#actions = np.array(['අ', 'ආ', 'ඇ','ඈ','ඉ','ඊ','උ','ඌ','එ','ඒ','ඔ','ඕ','ක්','ග්','ජ්','ට්','ද්','ණ්','ත්','ඩ්','න්','ප්','බ්','ම්','ය්','ර්','ල්','ව්','ස්','හ්'])\n",
    "# length_of_array = len(actions)\n",
    "# print(length_of_array)\n",
    "actions = np.array(['අ', 'ආ', 'ඇ','ඈ','ඉ','ඊ','උ','ඌ','එ','ඒ'])\t\n",
    "# actions = np.array(['අ', 'ආ', 'ඇ','ඈ','ඉ'])\t\n",
    "# actions = np.array(['ඊ','උ','ඌ','එ','ඒ'])\n",
    "# Thirty videos worth of data\n",
    "no_sequences = 30\n",
    "\n",
    "# Each One Video  going to be 30 frames in length\n",
    "sequence_length = 30\n",
    "\n",
    "# Folder start\n",
    "start_folder = 0"
   ]
  },
  {
   "cell_type": "code",
   "execution_count": 123,
   "id": "1815474c-8997-49ed-a755-2cdac1ac10e7",
   "metadata": {},
   "outputs": [],
   "source": [
    "label_map = {label:num for num, label in enumerate(actions)}"
   ]
  },
  {
   "cell_type": "code",
   "execution_count": 125,
   "id": "7fedd6f5-1e80-4aa3-9983-e6e9705824f3",
   "metadata": {},
   "outputs": [],
   "source": [
    "sequences, labels = [], []\n",
    "# loop each action\n",
    "for action in actions:\n",
    "    # Loop through the each action sequence(videos)\n",
    "    for sequence in np.array(os.listdir(os.path.join(DATA_PATH, action))).astype(int):\n",
    "        # this array will hold all the frame in one video\n",
    "        window = []\n",
    "        # Loop though the each frame 30(Frame)\n",
    "        for frame_num in range(sequence_length):\n",
    "            file_path = os.path.join(DATA_PATH, action, str(sequence), \"{}.npy\".format(frame_num))\n",
    "\n",
    "            if os.path.exists(file_path):\n",
    "                res = np.load(file_path)\n",
    "            else:\n",
    "                print(f\"Error: File not found at {file_path}\")\n",
    "            # # using np.load function load the saved np array from folder (path,which action,which video number,which frame number)\n",
    "            # res = np.load(os.path.join(DATA_PATH, action, str(sequence), \"{}.npy\".format(frame_num)))\n",
    "            # add loaded framee to window\n",
    "            window.append(res)\n",
    "        #    \n",
    "        sequences.append(window)\n",
    "        labels.append(label_map[action])"
   ]
  },
  {
   "cell_type": "code",
   "execution_count": 126,
   "id": "3bdf1a2d-250c-4c15-842c-c0d082ac0335",
   "metadata": {},
   "outputs": [
    {
     "data": {
      "text/plain": [
       "(300, 30, 126)"
      ]
     },
     "execution_count": 126,
     "metadata": {},
     "output_type": "execute_result"
    }
   ],
   "source": [
    "# shape should be 900(30 action 1 action has 30 videos) videos,30 frame each,126(21*3*2) key points in a frame\n",
    "np.array(sequences).shape"
   ]
  },
  {
   "cell_type": "code",
   "execution_count": 127,
   "id": "d2ff4474-ec3a-4a90-9f1b-8b0b3e5ea236",
   "metadata": {},
   "outputs": [
    {
     "data": {
      "text/plain": [
       "(300,)"
      ]
     },
     "execution_count": 127,
     "metadata": {},
     "output_type": "execute_result"
    }
   ],
   "source": [
    "np.array(labels).shape"
   ]
  },
  {
   "cell_type": "code",
   "execution_count": 128,
   "id": "bac8d493-963a-4d22-994b-ea1e5858f520",
   "metadata": {},
   "outputs": [],
   "source": [
    "X = np.array(sequences)"
   ]
  },
  {
   "cell_type": "code",
   "execution_count": 129,
   "id": "23f4a7be-6c56-4c5d-8fa6-12618b51629e",
   "metadata": {},
   "outputs": [],
   "source": [
    "y = to_categorical(labels).astype(int)"
   ]
  },
  {
   "cell_type": "code",
   "execution_count": 130,
   "id": "82488487-bc69-4f79-9ed9-57ee248480b0",
   "metadata": {},
   "outputs": [],
   "source": [
    "X_train, X_test, y_train, y_test = train_test_split(X, y, test_size=0.05)"
   ]
  },
  {
   "cell_type": "code",
   "execution_count": 131,
   "id": "6e1b1bee-2972-4b04-a334-8c0c4b3219ec",
   "metadata": {},
   "outputs": [],
   "source": [
    "from tensorflow.keras.models import Sequential\n",
    "# Make us able to action detection\n",
    "from tensorflow.keras.layers import LSTM, Dense\n",
    "# Make us able to monitor our modle during taining\n",
    "from tensorflow.keras.callbacks import TensorBoard"
   ]
  },
  {
   "cell_type": "code",
   "execution_count": 132,
   "id": "6b6c5e14-327d-4de4-aedf-ebcd600b9459",
   "metadata": {},
   "outputs": [],
   "source": [
    "# Get the current date in YYYYMMDD format\n",
    "current_date_time = datetime.datetime.now().strftime(\"%Y%m%d-%H%M%S\")\n",
    "\n",
    "checkpoint_path = \"checkpoints/cp-{epoch:04d}.ckpt\"\n",
    "checkpoint_dir = os.path.dirname(checkpoint_path)\n",
    "\n",
    "# Check if the checkpoint directory exists, if not, create it\n",
    "if not os.path.exists(checkpoint_dir):\n",
    "    os.makedirs(checkpoint_dir)\n",
    "\n",
    "# Check if a latest checkpoint exists\n",
    "latest_checkpoint = tf.train.latest_checkpoint(checkpoint_dir)\n",
    "\n",
    "\n",
    "cp_callback = tf.keras.callbacks.ModelCheckpoint(\n",
    "    filepath=checkpoint_path,  # Path to save the model weights\n",
    "    save_weights_only=True,     # Save only the model weights\n",
    "    verbose=1,                  # Verbosity mode, 1 for progress bar\n",
    "    save_freq=50          \n",
    ")\n",
    "\n"
   ]
  },
  {
   "cell_type": "code",
   "execution_count": 133,
   "id": "b29a3138-fd0d-4e78-9b8b-617061c996e2",
   "metadata": {},
   "outputs": [],
   "source": [
    "log_dir = os.path.join('Logs')\n",
    "tb_callback = TensorBoard(log_dir=log_dir)"
   ]
  },
  {
   "cell_type": "code",
   "execution_count": 134,
   "id": "4732931e-fce3-445e-b13e-303e4fd0c02b",
   "metadata": {},
   "outputs": [],
   "source": [
    "# load Sequential api\n",
    "model = Sequential()\n",
    "# add 3 layers of lstm model\n",
    "model.add(LSTM(64, return_sequences=True, activation='relu', input_shape=(30,126)))\n",
    "model.add(LSTM(128, return_sequences=True, activation='relu'))\n",
    "model.add(LSTM(64, return_sequences=False, activation='relu'))\n",
    "model.add(Dense(64, activation='relu'))\n",
    "model.add(Dense(32, activation='relu'))\n",
    "model.add(Dense(actions.shape[0], activation='softmax'))\n",
    "model.compile(optimizer='Adam', loss='categorical_crossentropy', metrics=['categorical_accuracy'])"
   ]
  },
  {
   "cell_type": "code",
   "execution_count": 135,
   "id": "0305c200-8ae2-4846-9795-02b144710854",
   "metadata": {},
   "outputs": [],
   "source": [
    "# If a latest checkpoint exists, load the weights and continue training\n",
    "# if latest_checkpoint:\n",
    "#     # print(f\"Loading weights from checkpoint: {latest_checkpoint}\")\n",
    "#     model.load_weights(latest_checkpoint)\n",
    "# else:\n",
    "#     if os.path.exists('action.h5'):\n",
    "#         # Load the pre-trained model from the H5 file\n",
    "#         model = tf.keras.models.load_model('action.h5')\n",
    "\n",
    "#         # Get the model summary\n",
    "#         model.summary()\n",
    "\n",
    "        # # Get the model weights\n",
    "        # model_weights = loaded_model.get_weights()\n",
    "        # model = model.set_weights(model_weights)\n",
    "\n"
   ]
  },
  {
   "cell_type": "code",
   "execution_count": 136,
   "id": "d8435e36-5834-4f53-a796-ae3718677c97",
   "metadata": {},
   "outputs": [
    {
     "name": "stdout",
     "output_type": "stream",
     "text": [
      "WARNING:tensorflow:5 out of the last 8 calls to <function Model.make_test_function.<locals>.test_function at 0x000002B487B75440> triggered tf.function retracing. Tracing is expensive and the excessive number of tracings could be due to (1) creating @tf.function repeatedly in a loop, (2) passing tensors with different shapes, (3) passing Python objects instead of tensors. For (1), please define your @tf.function outside of the loop. For (2), @tf.function has reduce_retracing=True option that can avoid unnecessary retracing. For (3), please refer to https://www.tensorflow.org/guide/function#controlling_retracing and https://www.tensorflow.org/api_docs/python/tf/function for  more details.\n"
     ]
    },
    {
     "name": "stderr",
     "output_type": "stream",
     "text": [
      "WARNING:tensorflow:5 out of the last 8 calls to <function Model.make_test_function.<locals>.test_function at 0x000002B487B75440> triggered tf.function retracing. Tracing is expensive and the excessive number of tracings could be due to (1) creating @tf.function repeatedly in a loop, (2) passing tensors with different shapes, (3) passing Python objects instead of tensors. For (1), please define your @tf.function outside of the loop. For (2), @tf.function has reduce_retracing=True option that can avoid unnecessary retracing. For (3), please refer to https://www.tensorflow.org/guide/function#controlling_retracing and https://www.tensorflow.org/api_docs/python/tf/function for  more details.\n"
     ]
    },
    {
     "name": "stdout",
     "output_type": "stream",
     "text": [
      "1/1 [==============================] - 1s 763ms/step - loss: 2.3141 - categorical_accuracy: 0.0000e+00\n",
      "Test Accuracy: 0.00\n"
     ]
    }
   ],
   "source": [
    "# Evaluate the model on the test set\n",
    "loss, accuracy = model.evaluate(X_test, y_test)\n",
    "\n",
    "# Print the accuracy\n",
    "print(f\"Test Accuracy: {accuracy:.2f}\")"
   ]
  },
  {
   "cell_type": "code",
   "execution_count": 137,
   "id": "20351fc4-b899-4989-aa61-d90326965ba1",
   "metadata": {},
   "outputs": [
    {
     "name": "stdout",
     "output_type": "stream",
     "text": [
      "Epoch 1/2000\n",
      "9/9 [==============================] - 5s 34ms/step - loss: 2.2981 - categorical_accuracy: 0.1053\n",
      "Epoch 2/2000\n",
      "9/9 [==============================] - 0s 33ms/step - loss: 2.2000 - categorical_accuracy: 0.1053\n",
      "Epoch 3/2000\n",
      "9/9 [==============================] - 0s 33ms/step - loss: 2.1607 - categorical_accuracy: 0.0947\n",
      "Epoch 4/2000\n",
      "9/9 [==============================] - 0s 34ms/step - loss: 2.1267 - categorical_accuracy: 0.1509\n",
      "Epoch 5/2000\n",
      "9/9 [==============================] - 0s 33ms/step - loss: 2.0380 - categorical_accuracy: 0.1614\n",
      "Epoch 6/2000\n",
      "3/9 [=========>....................] - ETA: 0s - loss: 1.9405 - categorical_accuracy: 0.2188\n",
      "Epoch 6: saving model to checkpoints\\cp-0006.ckpt\n",
      "9/9 [==============================] - 0s 40ms/step - loss: 1.9913 - categorical_accuracy: 0.2070\n",
      "Epoch 7/2000\n",
      "9/9 [==============================] - 0s 34ms/step - loss: 1.8884 - categorical_accuracy: 0.2456\n",
      "Epoch 8/2000\n",
      "9/9 [==============================] - 0s 33ms/step - loss: 1.7575 - categorical_accuracy: 0.2912\n",
      "Epoch 9/2000\n",
      "9/9 [==============================] - 0s 34ms/step - loss: 1.7978 - categorical_accuracy: 0.3228\n",
      "Epoch 10/2000\n",
      "9/9 [==============================] - 0s 33ms/step - loss: 1.6782 - categorical_accuracy: 0.3228\n",
      "Epoch 11/2000\n",
      "9/9 [==============================] - 0s 35ms/step - loss: 1.6421 - categorical_accuracy: 0.3263\n",
      "Epoch 12/2000\n",
      "\n",
      "Epoch 12: saving model to checkpoints\\cp-0012.ckpt\n",
      "9/9 [==============================] - 0s 33ms/step - loss: 1.5739 - categorical_accuracy: 0.3333\n",
      "Epoch 13/2000\n",
      "9/9 [==============================] - 0s 33ms/step - loss: 1.5544 - categorical_accuracy: 0.3263\n",
      "Epoch 14/2000\n",
      "9/9 [==============================] - 0s 34ms/step - loss: 1.4217 - categorical_accuracy: 0.5123\n",
      "Epoch 15/2000\n",
      "9/9 [==============================] - 0s 33ms/step - loss: 1.2307 - categorical_accuracy: 0.4211\n",
      "Epoch 16/2000\n",
      "9/9 [==============================] - 0s 34ms/step - loss: 1.1264 - categorical_accuracy: 0.5053\n",
      "Epoch 17/2000\n",
      "5/9 [===============>..............] - ETA: 0s - loss: 1.0281 - categorical_accuracy: 0.5437\n",
      "Epoch 17: saving model to checkpoints\\cp-0017.ckpt\n",
      "9/9 [==============================] - 0s 43ms/step - loss: 0.9603 - categorical_accuracy: 0.5719\n",
      "Epoch 18/2000\n",
      "9/9 [==============================] - 0s 33ms/step - loss: 0.7712 - categorical_accuracy: 0.6702\n",
      "Epoch 19/2000\n",
      "9/9 [==============================] - 0s 35ms/step - loss: 0.7294 - categorical_accuracy: 0.6912\n",
      "Epoch 20/2000\n",
      "9/9 [==============================] - 0s 34ms/step - loss: 0.8752 - categorical_accuracy: 0.6000\n",
      "Epoch 21/2000\n",
      "9/9 [==============================] - 0s 34ms/step - loss: 0.8328 - categorical_accuracy: 0.6140\n",
      "Epoch 22/2000\n",
      "9/9 [==============================] - 0s 34ms/step - loss: 0.6928 - categorical_accuracy: 0.6632\n",
      "Epoch 23/2000\n",
      "1/9 [==>...........................] - ETA: 0s - loss: 0.4948 - categorical_accuracy: 0.7500\n",
      "Epoch 23: saving model to checkpoints\\cp-0023.ckpt\n",
      "9/9 [==============================] - 0s 40ms/step - loss: 0.5732 - categorical_accuracy: 0.6982\n",
      "Epoch 24/2000\n",
      "9/9 [==============================] - 0s 33ms/step - loss: 0.6573 - categorical_accuracy: 0.6737\n",
      "Epoch 25/2000\n",
      "9/9 [==============================] - 0s 34ms/step - loss: 0.5470 - categorical_accuracy: 0.7193\n",
      "Epoch 26/2000\n",
      "9/9 [==============================] - 0s 34ms/step - loss: 0.4541 - categorical_accuracy: 0.7789\n",
      "Epoch 27/2000\n",
      "9/9 [==============================] - 0s 34ms/step - loss: 0.5891 - categorical_accuracy: 0.6982\n",
      "Epoch 28/2000\n",
      "5/9 [===============>..............] - ETA: 0s - loss: 0.6117 - categorical_accuracy: 0.7312\n",
      "Epoch 28: saving model to checkpoints\\cp-0028.ckpt\n",
      "9/9 [==============================] - 0s 40ms/step - loss: 0.5885 - categorical_accuracy: 0.7333\n",
      "Epoch 29/2000\n",
      "9/9 [==============================] - 0s 34ms/step - loss: 0.4569 - categorical_accuracy: 0.7614\n",
      "Epoch 30/2000\n",
      "9/9 [==============================] - 0s 34ms/step - loss: 0.4220 - categorical_accuracy: 0.7789\n",
      "Epoch 31/2000\n",
      "9/9 [==============================] - 0s 34ms/step - loss: 0.4790 - categorical_accuracy: 0.7368\n",
      "Epoch 32/2000\n",
      "9/9 [==============================] - 0s 35ms/step - loss: 0.3719 - categorical_accuracy: 0.8140\n",
      "Epoch 33/2000\n",
      "9/9 [==============================] - 0s 34ms/step - loss: 0.4750 - categorical_accuracy: 0.8035\n",
      "Epoch 34/2000\n",
      "1/9 [==>...........................] - ETA: 0s - loss: 0.5777 - categorical_accuracy: 0.5938\n",
      "Epoch 34: saving model to checkpoints\\cp-0034.ckpt\n",
      "9/9 [==============================] - 0s 40ms/step - loss: 0.7251 - categorical_accuracy: 0.6386\n",
      "Epoch 35/2000\n",
      "9/9 [==============================] - 0s 35ms/step - loss: 0.6180 - categorical_accuracy: 0.7228\n",
      "Epoch 36/2000\n",
      "9/9 [==============================] - 0s 35ms/step - loss: 0.5404 - categorical_accuracy: 0.7614\n",
      "Epoch 37/2000\n",
      "9/9 [==============================] - 0s 34ms/step - loss: 0.4154 - categorical_accuracy: 0.7965\n",
      "Epoch 38/2000\n",
      "9/9 [==============================] - 0s 34ms/step - loss: 0.4637 - categorical_accuracy: 0.7404\n",
      "Epoch 39/2000\n",
      "7/9 [======================>.......] - ETA: 0s - loss: 0.4927 - categorical_accuracy: 0.7277\n",
      "Epoch 39: saving model to checkpoints\\cp-0039.ckpt\n",
      "9/9 [==============================] - 0s 40ms/step - loss: 0.4697 - categorical_accuracy: 0.7404\n",
      "Epoch 40/2000\n",
      "9/9 [==============================] - 0s 34ms/step - loss: 0.3744 - categorical_accuracy: 0.8140\n",
      "Epoch 41/2000\n",
      "9/9 [==============================] - 0s 36ms/step - loss: 0.3271 - categorical_accuracy: 0.8140\n",
      "Epoch 42/2000\n",
      "9/9 [==============================] - 0s 35ms/step - loss: 0.3122 - categorical_accuracy: 0.8246\n",
      "Epoch 43/2000\n",
      "9/9 [==============================] - 0s 34ms/step - loss: 0.3282 - categorical_accuracy: 0.8246\n",
      "Epoch 44/2000\n",
      "9/9 [==============================] - 0s 34ms/step - loss: 0.4130 - categorical_accuracy: 0.7298\n",
      "Epoch 45/2000\n",
      "3/9 [=========>....................] - ETA: 0s - loss: 0.3810 - categorical_accuracy: 0.8229\n",
      "Epoch 45: saving model to checkpoints\\cp-0045.ckpt\n",
      "9/9 [==============================] - 0s 41ms/step - loss: 0.3665 - categorical_accuracy: 0.7895\n",
      "Epoch 46/2000\n",
      "9/9 [==============================] - 0s 37ms/step - loss: 0.3247 - categorical_accuracy: 0.8175\n",
      "Epoch 47/2000\n",
      "9/9 [==============================] - 0s 34ms/step - loss: 0.3052 - categorical_accuracy: 0.8386\n",
      "Epoch 48/2000\n",
      "9/9 [==============================] - 0s 34ms/step - loss: 0.2780 - categorical_accuracy: 0.8351\n",
      "Epoch 49/2000\n",
      "9/9 [==============================] - 0s 34ms/step - loss: 0.9441 - categorical_accuracy: 0.6737\n",
      "Epoch 50/2000\n",
      "7/9 [======================>.......] - ETA: 0s - loss: 0.8934 - categorical_accuracy: 0.5804\n",
      "Epoch 50: saving model to checkpoints\\cp-0050.ckpt\n",
      "9/9 [==============================] - 0s 42ms/step - loss: 0.9069 - categorical_accuracy: 0.5789\n",
      "Epoch 51/2000\n",
      "9/9 [==============================] - 0s 35ms/step - loss: 0.8447 - categorical_accuracy: 0.6772\n",
      "Epoch 52/2000\n",
      "9/9 [==============================] - 0s 35ms/step - loss: 0.6704 - categorical_accuracy: 0.6877\n",
      "Epoch 53/2000\n",
      "9/9 [==============================] - 0s 33ms/step - loss: 0.5407 - categorical_accuracy: 0.7579\n",
      "Epoch 54/2000\n",
      "9/9 [==============================] - 0s 36ms/step - loss: 0.7340 - categorical_accuracy: 0.6982\n",
      "Epoch 55/2000\n",
      "9/9 [==============================] - 0s 34ms/step - loss: 0.6086 - categorical_accuracy: 0.7298\n",
      "Epoch 56/2000\n",
      "3/9 [=========>....................] - ETA: 0s - loss: 0.4422 - categorical_accuracy: 0.7604\n",
      "Epoch 56: saving model to checkpoints\\cp-0056.ckpt\n",
      "9/9 [==============================] - 0s 40ms/step - loss: 0.4454 - categorical_accuracy: 0.7860\n",
      "Epoch 57/2000\n",
      "9/9 [==============================] - 0s 35ms/step - loss: 0.3788 - categorical_accuracy: 0.8140\n",
      "Epoch 58/2000\n",
      "9/9 [==============================] - 0s 34ms/step - loss: 0.3581 - categorical_accuracy: 0.8596\n",
      "Epoch 59/2000\n",
      "9/9 [==============================] - 0s 34ms/step - loss: 0.4121 - categorical_accuracy: 0.8000\n",
      "Epoch 60/2000\n",
      "9/9 [==============================] - 0s 35ms/step - loss: 0.5102 - categorical_accuracy: 0.7614\n",
      "Epoch 61/2000\n",
      "9/9 [==============================] - 0s 32ms/step - loss: 0.3745 - categorical_accuracy: 0.8351\n",
      "Epoch 62/2000\n",
      "\n",
      "Epoch 62: saving model to checkpoints\\cp-0062.ckpt\n",
      "9/9 [==============================] - 0s 34ms/step - loss: 0.3653 - categorical_accuracy: 0.8421\n",
      "Epoch 63/2000\n",
      "9/9 [==============================] - 0s 34ms/step - loss: 0.3436 - categorical_accuracy: 0.8211\n",
      "Epoch 64/2000\n",
      "9/9 [==============================] - 0s 34ms/step - loss: 0.3178 - categorical_accuracy: 0.8246\n",
      "Epoch 65/2000\n",
      "9/9 [==============================] - 0s 34ms/step - loss: 0.3289 - categorical_accuracy: 0.8105\n",
      "Epoch 66/2000\n",
      "9/9 [==============================] - 0s 34ms/step - loss: 0.3420 - categorical_accuracy: 0.8386\n",
      "Epoch 67/2000\n",
      "5/9 [===============>..............] - ETA: 0s - loss: 0.3530 - categorical_accuracy: 0.8375\n",
      "Epoch 67: saving model to checkpoints\\cp-0067.ckpt\n",
      "9/9 [==============================] - 0s 41ms/step - loss: 0.4772 - categorical_accuracy: 0.8000\n",
      "Epoch 68/2000\n",
      "9/9 [==============================] - 0s 36ms/step - loss: 0.3950 - categorical_accuracy: 0.8246\n",
      "Epoch 69/2000\n",
      "9/9 [==============================] - 0s 35ms/step - loss: 0.3467 - categorical_accuracy: 0.8246\n",
      "Epoch 70/2000\n",
      "9/9 [==============================] - 0s 36ms/step - loss: 0.2951 - categorical_accuracy: 0.8421\n",
      "Epoch 71/2000\n",
      "9/9 [==============================] - 0s 36ms/step - loss: 0.2875 - categorical_accuracy: 0.8491\n",
      "Epoch 72/2000\n",
      "9/9 [==============================] - 0s 38ms/step - loss: 0.2743 - categorical_accuracy: 0.8561\n",
      "Epoch 73/2000\n",
      "1/9 [==>...........................] - ETA: 0s - loss: 0.3636 - categorical_accuracy: 0.8125\n",
      "Epoch 73: saving model to checkpoints\\cp-0073.ckpt\n",
      "9/9 [==============================] - 0s 40ms/step - loss: 0.2498 - categorical_accuracy: 0.8596\n",
      "Epoch 74/2000\n",
      "9/9 [==============================] - 0s 34ms/step - loss: 0.3628 - categorical_accuracy: 0.8351\n",
      "Epoch 75/2000\n",
      "9/9 [==============================] - 0s 33ms/step - loss: 0.4696 - categorical_accuracy: 0.7895\n",
      "Epoch 76/2000\n",
      "9/9 [==============================] - 0s 35ms/step - loss: 0.4930 - categorical_accuracy: 0.7509\n",
      "Epoch 77/2000\n",
      "9/9 [==============================] - 0s 33ms/step - loss: 0.3645 - categorical_accuracy: 0.8386\n",
      "Epoch 78/2000\n",
      "5/9 [===============>..............] - ETA: 0s - loss: 0.2981 - categorical_accuracy: 0.8750\n",
      "Epoch 78: saving model to checkpoints\\cp-0078.ckpt\n",
      "9/9 [==============================] - 0s 40ms/step - loss: 0.2886 - categorical_accuracy: 0.8807\n",
      "Epoch 79/2000\n",
      "9/9 [==============================] - 0s 35ms/step - loss: 0.2544 - categorical_accuracy: 0.9018\n",
      "Epoch 80/2000\n",
      "9/9 [==============================] - 0s 35ms/step - loss: 0.2263 - categorical_accuracy: 0.9123\n",
      "Epoch 81/2000\n",
      "9/9 [==============================] - 0s 33ms/step - loss: 0.2341 - categorical_accuracy: 0.8877\n",
      "Epoch 82/2000\n",
      "9/9 [==============================] - 0s 35ms/step - loss: 0.2205 - categorical_accuracy: 0.8947\n",
      "Epoch 83/2000\n",
      "9/9 [==============================] - 0s 37ms/step - loss: 0.2168 - categorical_accuracy: 0.9018\n",
      "Epoch 84/2000\n",
      "1/9 [==>...........................] - ETA: 0s - loss: 0.2018 - categorical_accuracy: 0.8125\n",
      "Epoch 84: saving model to checkpoints\\cp-0084.ckpt\n",
      "9/9 [==============================] - 0s 42ms/step - loss: 0.2570 - categorical_accuracy: 0.8702\n",
      "Epoch 85/2000\n",
      "9/9 [==============================] - 0s 33ms/step - loss: 0.3044 - categorical_accuracy: 0.8596\n",
      "Epoch 86/2000\n",
      "9/9 [==============================] - 0s 33ms/step - loss: 0.2683 - categorical_accuracy: 0.8632\n",
      "Epoch 87/2000\n",
      "9/9 [==============================] - 0s 34ms/step - loss: 0.2565 - categorical_accuracy: 0.8456\n",
      "Epoch 88/2000\n",
      "9/9 [==============================] - 0s 34ms/step - loss: 0.2650 - categorical_accuracy: 0.8596\n",
      "Epoch 89/2000\n",
      "7/9 [======================>.......] - ETA: 0s - loss: 0.2661 - categorical_accuracy: 0.8750\n",
      "Epoch 89: saving model to checkpoints\\cp-0089.ckpt\n",
      "9/9 [==============================] - 0s 42ms/step - loss: 0.2476 - categorical_accuracy: 0.8912\n",
      "Epoch 90/2000\n",
      "9/9 [==============================] - 0s 36ms/step - loss: 0.2245 - categorical_accuracy: 0.8947\n",
      "Epoch 91/2000\n",
      "9/9 [==============================] - 0s 37ms/step - loss: 0.1993 - categorical_accuracy: 0.9088\n",
      "Epoch 92/2000\n",
      "9/9 [==============================] - 0s 35ms/step - loss: 0.2121 - categorical_accuracy: 0.8947\n",
      "Epoch 93/2000\n",
      "9/9 [==============================] - 0s 33ms/step - loss: 0.2153 - categorical_accuracy: 0.8947\n",
      "Epoch 94/2000\n",
      "9/9 [==============================] - 0s 36ms/step - loss: 0.2268 - categorical_accuracy: 0.9053\n",
      "Epoch 95/2000\n",
      "3/9 [=========>....................] - ETA: 0s - loss: 0.1691 - categorical_accuracy: 0.9583\n",
      "Epoch 95: saving model to checkpoints\\cp-0095.ckpt\n",
      "9/9 [==============================] - 0s 42ms/step - loss: 0.2660 - categorical_accuracy: 0.8842\n",
      "Epoch 96/2000\n",
      "9/9 [==============================] - 0s 33ms/step - loss: 0.3527 - categorical_accuracy: 0.8491\n",
      "Epoch 97/2000\n",
      "9/9 [==============================] - 0s 36ms/step - loss: 0.3027 - categorical_accuracy: 0.8667\n",
      "Epoch 98/2000\n",
      "9/9 [==============================] - 0s 34ms/step - loss: 0.2762 - categorical_accuracy: 0.8807\n",
      "Epoch 99/2000\n",
      "9/9 [==============================] - 0s 38ms/step - loss: 0.2491 - categorical_accuracy: 0.8772\n",
      "Epoch 100/2000\n",
      "7/9 [======================>.......] - ETA: 0s - loss: 0.2183 - categorical_accuracy: 0.8973\n",
      "Epoch 100: saving model to checkpoints\\cp-0100.ckpt\n",
      "9/9 [==============================] - 0s 41ms/step - loss: 0.2071 - categorical_accuracy: 0.9018\n",
      "Epoch 101/2000\n",
      "9/9 [==============================] - 0s 33ms/step - loss: 0.1834 - categorical_accuracy: 0.9298\n",
      "Epoch 102/2000\n",
      "9/9 [==============================] - 0s 33ms/step - loss: 0.1902 - categorical_accuracy: 0.9088\n",
      "Epoch 103/2000\n",
      "9/9 [==============================] - 0s 35ms/step - loss: 0.1758 - categorical_accuracy: 0.9193\n",
      "Epoch 104/2000\n",
      "9/9 [==============================] - 0s 35ms/step - loss: 0.1831 - categorical_accuracy: 0.9158\n",
      "Epoch 105/2000\n",
      "9/9 [==============================] - 0s 35ms/step - loss: 0.1613 - categorical_accuracy: 0.9263\n",
      "Epoch 106/2000\n",
      "3/9 [=========>....................] - ETA: 0s - loss: 0.1614 - categorical_accuracy: 0.9167\n",
      "Epoch 106: saving model to checkpoints\\cp-0106.ckpt\n",
      "9/9 [==============================] - 0s 48ms/step - loss: 0.1763 - categorical_accuracy: 0.9193\n",
      "Epoch 107/2000\n",
      "9/9 [==============================] - 0s 34ms/step - loss: 0.3040 - categorical_accuracy: 0.8667\n",
      "Epoch 108/2000\n",
      "9/9 [==============================] - 0s 34ms/step - loss: 0.2220 - categorical_accuracy: 0.8877\n",
      "Epoch 109/2000\n",
      "9/9 [==============================] - 0s 34ms/step - loss: 0.1951 - categorical_accuracy: 0.9053\n",
      "Epoch 110/2000\n"
     ]
    },
    {
     "ename": "KeyboardInterrupt",
     "evalue": "",
     "output_type": "error",
     "traceback": [
      "\u001b[1;31m---------------------------------------------------------------------------\u001b[0m",
      "\u001b[1;31mKeyboardInterrupt\u001b[0m                         Traceback (most recent call last)",
      "Cell \u001b[1;32mIn[137], line 1\u001b[0m\n\u001b[1;32m----> 1\u001b[0m \u001b[43mmodel\u001b[49m\u001b[38;5;241;43m.\u001b[39;49m\u001b[43mfit\u001b[49m\u001b[43m(\u001b[49m\u001b[43mX_train\u001b[49m\u001b[43m,\u001b[49m\u001b[43m \u001b[49m\u001b[43my_train\u001b[49m\u001b[43m,\u001b[49m\u001b[43m \u001b[49m\u001b[43mepochs\u001b[49m\u001b[38;5;241;43m=\u001b[39;49m\u001b[38;5;241;43m2000\u001b[39;49m\u001b[43m,\u001b[49m\u001b[43m \u001b[49m\u001b[43mcallbacks\u001b[49m\u001b[38;5;241;43m=\u001b[39;49m\u001b[43m[\u001b[49m\u001b[43mtb_callback\u001b[49m\u001b[43m,\u001b[49m\u001b[43mcp_callback\u001b[49m\u001b[43m]\u001b[49m\u001b[43m)\u001b[49m\n",
      "File \u001b[1;32m~\\AppData\\Local\\Programs\\Python\\Python311\\Lib\\site-packages\\keras\\src\\utils\\traceback_utils.py:65\u001b[0m, in \u001b[0;36mfilter_traceback.<locals>.error_handler\u001b[1;34m(*args, **kwargs)\u001b[0m\n\u001b[0;32m     63\u001b[0m filtered_tb \u001b[38;5;241m=\u001b[39m \u001b[38;5;28;01mNone\u001b[39;00m\n\u001b[0;32m     64\u001b[0m \u001b[38;5;28;01mtry\u001b[39;00m:\n\u001b[1;32m---> 65\u001b[0m     \u001b[38;5;28;01mreturn\u001b[39;00m \u001b[43mfn\u001b[49m\u001b[43m(\u001b[49m\u001b[38;5;241;43m*\u001b[39;49m\u001b[43margs\u001b[49m\u001b[43m,\u001b[49m\u001b[43m \u001b[49m\u001b[38;5;241;43m*\u001b[39;49m\u001b[38;5;241;43m*\u001b[39;49m\u001b[43mkwargs\u001b[49m\u001b[43m)\u001b[49m\n\u001b[0;32m     66\u001b[0m \u001b[38;5;28;01mexcept\u001b[39;00m \u001b[38;5;167;01mException\u001b[39;00m \u001b[38;5;28;01mas\u001b[39;00m e:\n\u001b[0;32m     67\u001b[0m     filtered_tb \u001b[38;5;241m=\u001b[39m _process_traceback_frames(e\u001b[38;5;241m.\u001b[39m__traceback__)\n",
      "File \u001b[1;32m~\\AppData\\Local\\Programs\\Python\\Python311\\Lib\\site-packages\\keras\\src\\engine\\training.py:1742\u001b[0m, in \u001b[0;36mModel.fit\u001b[1;34m(self, x, y, batch_size, epochs, verbose, callbacks, validation_split, validation_data, shuffle, class_weight, sample_weight, initial_epoch, steps_per_epoch, validation_steps, validation_batch_size, validation_freq, max_queue_size, workers, use_multiprocessing)\u001b[0m\n\u001b[0;32m   1734\u001b[0m \u001b[38;5;28;01mwith\u001b[39;00m tf\u001b[38;5;241m.\u001b[39mprofiler\u001b[38;5;241m.\u001b[39mexperimental\u001b[38;5;241m.\u001b[39mTrace(\n\u001b[0;32m   1735\u001b[0m     \u001b[38;5;124m\"\u001b[39m\u001b[38;5;124mtrain\u001b[39m\u001b[38;5;124m\"\u001b[39m,\n\u001b[0;32m   1736\u001b[0m     epoch_num\u001b[38;5;241m=\u001b[39mepoch,\n\u001b[1;32m   (...)\u001b[0m\n\u001b[0;32m   1739\u001b[0m     _r\u001b[38;5;241m=\u001b[39m\u001b[38;5;241m1\u001b[39m,\n\u001b[0;32m   1740\u001b[0m ):\n\u001b[0;32m   1741\u001b[0m     callbacks\u001b[38;5;241m.\u001b[39mon_train_batch_begin(step)\n\u001b[1;32m-> 1742\u001b[0m     tmp_logs \u001b[38;5;241m=\u001b[39m \u001b[38;5;28;43mself\u001b[39;49m\u001b[38;5;241;43m.\u001b[39;49m\u001b[43mtrain_function\u001b[49m\u001b[43m(\u001b[49m\u001b[43miterator\u001b[49m\u001b[43m)\u001b[49m\n\u001b[0;32m   1743\u001b[0m     \u001b[38;5;28;01mif\u001b[39;00m data_handler\u001b[38;5;241m.\u001b[39mshould_sync:\n\u001b[0;32m   1744\u001b[0m         context\u001b[38;5;241m.\u001b[39masync_wait()\n",
      "File \u001b[1;32m~\\AppData\\Local\\Programs\\Python\\Python311\\Lib\\site-packages\\tensorflow\\python\\util\\traceback_utils.py:150\u001b[0m, in \u001b[0;36mfilter_traceback.<locals>.error_handler\u001b[1;34m(*args, **kwargs)\u001b[0m\n\u001b[0;32m    148\u001b[0m filtered_tb \u001b[38;5;241m=\u001b[39m \u001b[38;5;28;01mNone\u001b[39;00m\n\u001b[0;32m    149\u001b[0m \u001b[38;5;28;01mtry\u001b[39;00m:\n\u001b[1;32m--> 150\u001b[0m   \u001b[38;5;28;01mreturn\u001b[39;00m \u001b[43mfn\u001b[49m\u001b[43m(\u001b[49m\u001b[38;5;241;43m*\u001b[39;49m\u001b[43margs\u001b[49m\u001b[43m,\u001b[49m\u001b[43m \u001b[49m\u001b[38;5;241;43m*\u001b[39;49m\u001b[38;5;241;43m*\u001b[39;49m\u001b[43mkwargs\u001b[49m\u001b[43m)\u001b[49m\n\u001b[0;32m    151\u001b[0m \u001b[38;5;28;01mexcept\u001b[39;00m \u001b[38;5;167;01mException\u001b[39;00m \u001b[38;5;28;01mas\u001b[39;00m e:\n\u001b[0;32m    152\u001b[0m   filtered_tb \u001b[38;5;241m=\u001b[39m _process_traceback_frames(e\u001b[38;5;241m.\u001b[39m__traceback__)\n",
      "File \u001b[1;32m~\\AppData\\Local\\Programs\\Python\\Python311\\Lib\\site-packages\\tensorflow\\python\\eager\\polymorphic_function\\polymorphic_function.py:825\u001b[0m, in \u001b[0;36mFunction.__call__\u001b[1;34m(self, *args, **kwds)\u001b[0m\n\u001b[0;32m    822\u001b[0m compiler \u001b[38;5;241m=\u001b[39m \u001b[38;5;124m\"\u001b[39m\u001b[38;5;124mxla\u001b[39m\u001b[38;5;124m\"\u001b[39m \u001b[38;5;28;01mif\u001b[39;00m \u001b[38;5;28mself\u001b[39m\u001b[38;5;241m.\u001b[39m_jit_compile \u001b[38;5;28;01melse\u001b[39;00m \u001b[38;5;124m\"\u001b[39m\u001b[38;5;124mnonXla\u001b[39m\u001b[38;5;124m\"\u001b[39m\n\u001b[0;32m    824\u001b[0m \u001b[38;5;28;01mwith\u001b[39;00m OptionalXlaContext(\u001b[38;5;28mself\u001b[39m\u001b[38;5;241m.\u001b[39m_jit_compile):\n\u001b[1;32m--> 825\u001b[0m   result \u001b[38;5;241m=\u001b[39m \u001b[38;5;28;43mself\u001b[39;49m\u001b[38;5;241;43m.\u001b[39;49m\u001b[43m_call\u001b[49m\u001b[43m(\u001b[49m\u001b[38;5;241;43m*\u001b[39;49m\u001b[43margs\u001b[49m\u001b[43m,\u001b[49m\u001b[43m \u001b[49m\u001b[38;5;241;43m*\u001b[39;49m\u001b[38;5;241;43m*\u001b[39;49m\u001b[43mkwds\u001b[49m\u001b[43m)\u001b[49m\n\u001b[0;32m    827\u001b[0m new_tracing_count \u001b[38;5;241m=\u001b[39m \u001b[38;5;28mself\u001b[39m\u001b[38;5;241m.\u001b[39mexperimental_get_tracing_count()\n\u001b[0;32m    828\u001b[0m without_tracing \u001b[38;5;241m=\u001b[39m (tracing_count \u001b[38;5;241m==\u001b[39m new_tracing_count)\n",
      "File \u001b[1;32m~\\AppData\\Local\\Programs\\Python\\Python311\\Lib\\site-packages\\tensorflow\\python\\eager\\polymorphic_function\\polymorphic_function.py:857\u001b[0m, in \u001b[0;36mFunction._call\u001b[1;34m(self, *args, **kwds)\u001b[0m\n\u001b[0;32m    854\u001b[0m   \u001b[38;5;28mself\u001b[39m\u001b[38;5;241m.\u001b[39m_lock\u001b[38;5;241m.\u001b[39mrelease()\n\u001b[0;32m    855\u001b[0m   \u001b[38;5;66;03m# In this case we have created variables on the first call, so we run the\u001b[39;00m\n\u001b[0;32m    856\u001b[0m   \u001b[38;5;66;03m# defunned version which is guaranteed to never create variables.\u001b[39;00m\n\u001b[1;32m--> 857\u001b[0m   \u001b[38;5;28;01mreturn\u001b[39;00m \u001b[38;5;28;43mself\u001b[39;49m\u001b[38;5;241;43m.\u001b[39;49m\u001b[43m_no_variable_creation_fn\u001b[49m\u001b[43m(\u001b[49m\u001b[38;5;241;43m*\u001b[39;49m\u001b[43margs\u001b[49m\u001b[43m,\u001b[49m\u001b[43m \u001b[49m\u001b[38;5;241;43m*\u001b[39;49m\u001b[38;5;241;43m*\u001b[39;49m\u001b[43mkwds\u001b[49m\u001b[43m)\u001b[49m  \u001b[38;5;66;03m# pylint: disable=not-callable\u001b[39;00m\n\u001b[0;32m    858\u001b[0m \u001b[38;5;28;01melif\u001b[39;00m \u001b[38;5;28mself\u001b[39m\u001b[38;5;241m.\u001b[39m_variable_creation_fn \u001b[38;5;129;01mis\u001b[39;00m \u001b[38;5;129;01mnot\u001b[39;00m \u001b[38;5;28;01mNone\u001b[39;00m:\n\u001b[0;32m    859\u001b[0m   \u001b[38;5;66;03m# Release the lock early so that multiple threads can perform the call\u001b[39;00m\n\u001b[0;32m    860\u001b[0m   \u001b[38;5;66;03m# in parallel.\u001b[39;00m\n\u001b[0;32m    861\u001b[0m   \u001b[38;5;28mself\u001b[39m\u001b[38;5;241m.\u001b[39m_lock\u001b[38;5;241m.\u001b[39mrelease()\n",
      "File \u001b[1;32m~\\AppData\\Local\\Programs\\Python\\Python311\\Lib\\site-packages\\tensorflow\\python\\eager\\polymorphic_function\\tracing_compiler.py:148\u001b[0m, in \u001b[0;36mTracingCompiler.__call__\u001b[1;34m(self, *args, **kwargs)\u001b[0m\n\u001b[0;32m    145\u001b[0m \u001b[38;5;28;01mwith\u001b[39;00m \u001b[38;5;28mself\u001b[39m\u001b[38;5;241m.\u001b[39m_lock:\n\u001b[0;32m    146\u001b[0m   (concrete_function,\n\u001b[0;32m    147\u001b[0m    filtered_flat_args) \u001b[38;5;241m=\u001b[39m \u001b[38;5;28mself\u001b[39m\u001b[38;5;241m.\u001b[39m_maybe_define_function(args, kwargs)\n\u001b[1;32m--> 148\u001b[0m \u001b[38;5;28;01mreturn\u001b[39;00m \u001b[43mconcrete_function\u001b[49m\u001b[38;5;241;43m.\u001b[39;49m\u001b[43m_call_flat\u001b[49m\u001b[43m(\u001b[49m\n\u001b[0;32m    149\u001b[0m \u001b[43m    \u001b[49m\u001b[43mfiltered_flat_args\u001b[49m\u001b[43m,\u001b[49m\u001b[43m \u001b[49m\u001b[43mcaptured_inputs\u001b[49m\u001b[38;5;241;43m=\u001b[39;49m\u001b[43mconcrete_function\u001b[49m\u001b[38;5;241;43m.\u001b[39;49m\u001b[43mcaptured_inputs\u001b[49m\u001b[43m)\u001b[49m\n",
      "File \u001b[1;32m~\\AppData\\Local\\Programs\\Python\\Python311\\Lib\\site-packages\\tensorflow\\python\\eager\\polymorphic_function\\monomorphic_function.py:1349\u001b[0m, in \u001b[0;36mConcreteFunction._call_flat\u001b[1;34m(self, args, captured_inputs)\u001b[0m\n\u001b[0;32m   1345\u001b[0m possible_gradient_type \u001b[38;5;241m=\u001b[39m gradients_util\u001b[38;5;241m.\u001b[39mPossibleTapeGradientTypes(args)\n\u001b[0;32m   1346\u001b[0m \u001b[38;5;28;01mif\u001b[39;00m (possible_gradient_type \u001b[38;5;241m==\u001b[39m gradients_util\u001b[38;5;241m.\u001b[39mPOSSIBLE_GRADIENT_TYPES_NONE\n\u001b[0;32m   1347\u001b[0m     \u001b[38;5;129;01mand\u001b[39;00m executing_eagerly):\n\u001b[0;32m   1348\u001b[0m   \u001b[38;5;66;03m# No tape is watching; skip to running the function.\u001b[39;00m\n\u001b[1;32m-> 1349\u001b[0m   \u001b[38;5;28;01mreturn\u001b[39;00m \u001b[38;5;28mself\u001b[39m\u001b[38;5;241m.\u001b[39m_build_call_outputs(\u001b[38;5;28;43mself\u001b[39;49m\u001b[38;5;241;43m.\u001b[39;49m\u001b[43m_inference_function\u001b[49m\u001b[43m(\u001b[49m\u001b[38;5;241;43m*\u001b[39;49m\u001b[43margs\u001b[49m\u001b[43m)\u001b[49m)\n\u001b[0;32m   1350\u001b[0m forward_backward \u001b[38;5;241m=\u001b[39m \u001b[38;5;28mself\u001b[39m\u001b[38;5;241m.\u001b[39m_select_forward_and_backward_functions(\n\u001b[0;32m   1351\u001b[0m     args,\n\u001b[0;32m   1352\u001b[0m     possible_gradient_type,\n\u001b[0;32m   1353\u001b[0m     executing_eagerly)\n\u001b[0;32m   1354\u001b[0m forward_function, args_with_tangents \u001b[38;5;241m=\u001b[39m forward_backward\u001b[38;5;241m.\u001b[39mforward()\n",
      "File \u001b[1;32m~\\AppData\\Local\\Programs\\Python\\Python311\\Lib\\site-packages\\tensorflow\\python\\eager\\polymorphic_function\\atomic_function.py:196\u001b[0m, in \u001b[0;36mAtomicFunction.__call__\u001b[1;34m(self, *args)\u001b[0m\n\u001b[0;32m    194\u001b[0m \u001b[38;5;28;01mwith\u001b[39;00m record\u001b[38;5;241m.\u001b[39mstop_recording():\n\u001b[0;32m    195\u001b[0m   \u001b[38;5;28;01mif\u001b[39;00m \u001b[38;5;28mself\u001b[39m\u001b[38;5;241m.\u001b[39m_bound_context\u001b[38;5;241m.\u001b[39mexecuting_eagerly():\n\u001b[1;32m--> 196\u001b[0m     outputs \u001b[38;5;241m=\u001b[39m \u001b[38;5;28;43mself\u001b[39;49m\u001b[38;5;241;43m.\u001b[39;49m\u001b[43m_bound_context\u001b[49m\u001b[38;5;241;43m.\u001b[39;49m\u001b[43mcall_function\u001b[49m\u001b[43m(\u001b[49m\n\u001b[0;32m    197\u001b[0m \u001b[43m        \u001b[49m\u001b[38;5;28;43mself\u001b[39;49m\u001b[38;5;241;43m.\u001b[39;49m\u001b[43mname\u001b[49m\u001b[43m,\u001b[49m\n\u001b[0;32m    198\u001b[0m \u001b[43m        \u001b[49m\u001b[38;5;28;43mlist\u001b[39;49m\u001b[43m(\u001b[49m\u001b[43margs\u001b[49m\u001b[43m)\u001b[49m\u001b[43m,\u001b[49m\n\u001b[0;32m    199\u001b[0m \u001b[43m        \u001b[49m\u001b[38;5;28;43mlen\u001b[39;49m\u001b[43m(\u001b[49m\u001b[38;5;28;43mself\u001b[39;49m\u001b[38;5;241;43m.\u001b[39;49m\u001b[43mfunction_type\u001b[49m\u001b[38;5;241;43m.\u001b[39;49m\u001b[43mflat_outputs\u001b[49m\u001b[43m)\u001b[49m\u001b[43m,\u001b[49m\n\u001b[0;32m    200\u001b[0m \u001b[43m    \u001b[49m\u001b[43m)\u001b[49m\n\u001b[0;32m    201\u001b[0m   \u001b[38;5;28;01melse\u001b[39;00m:\n\u001b[0;32m    202\u001b[0m     outputs \u001b[38;5;241m=\u001b[39m make_call_op_in_graph(\u001b[38;5;28mself\u001b[39m, \u001b[38;5;28mlist\u001b[39m(args))\n",
      "File \u001b[1;32m~\\AppData\\Local\\Programs\\Python\\Python311\\Lib\\site-packages\\tensorflow\\python\\eager\\context.py:1457\u001b[0m, in \u001b[0;36mContext.call_function\u001b[1;34m(self, name, tensor_inputs, num_outputs)\u001b[0m\n\u001b[0;32m   1455\u001b[0m cancellation_context \u001b[38;5;241m=\u001b[39m cancellation\u001b[38;5;241m.\u001b[39mcontext()\n\u001b[0;32m   1456\u001b[0m \u001b[38;5;28;01mif\u001b[39;00m cancellation_context \u001b[38;5;129;01mis\u001b[39;00m \u001b[38;5;28;01mNone\u001b[39;00m:\n\u001b[1;32m-> 1457\u001b[0m   outputs \u001b[38;5;241m=\u001b[39m \u001b[43mexecute\u001b[49m\u001b[38;5;241;43m.\u001b[39;49m\u001b[43mexecute\u001b[49m\u001b[43m(\u001b[49m\n\u001b[0;32m   1458\u001b[0m \u001b[43m      \u001b[49m\u001b[43mname\u001b[49m\u001b[38;5;241;43m.\u001b[39;49m\u001b[43mdecode\u001b[49m\u001b[43m(\u001b[49m\u001b[38;5;124;43m\"\u001b[39;49m\u001b[38;5;124;43mutf-8\u001b[39;49m\u001b[38;5;124;43m\"\u001b[39;49m\u001b[43m)\u001b[49m\u001b[43m,\u001b[49m\n\u001b[0;32m   1459\u001b[0m \u001b[43m      \u001b[49m\u001b[43mnum_outputs\u001b[49m\u001b[38;5;241;43m=\u001b[39;49m\u001b[43mnum_outputs\u001b[49m\u001b[43m,\u001b[49m\n\u001b[0;32m   1460\u001b[0m \u001b[43m      \u001b[49m\u001b[43minputs\u001b[49m\u001b[38;5;241;43m=\u001b[39;49m\u001b[43mtensor_inputs\u001b[49m\u001b[43m,\u001b[49m\n\u001b[0;32m   1461\u001b[0m \u001b[43m      \u001b[49m\u001b[43mattrs\u001b[49m\u001b[38;5;241;43m=\u001b[39;49m\u001b[43mattrs\u001b[49m\u001b[43m,\u001b[49m\n\u001b[0;32m   1462\u001b[0m \u001b[43m      \u001b[49m\u001b[43mctx\u001b[49m\u001b[38;5;241;43m=\u001b[39;49m\u001b[38;5;28;43mself\u001b[39;49m\u001b[43m,\u001b[49m\n\u001b[0;32m   1463\u001b[0m \u001b[43m  \u001b[49m\u001b[43m)\u001b[49m\n\u001b[0;32m   1464\u001b[0m \u001b[38;5;28;01melse\u001b[39;00m:\n\u001b[0;32m   1465\u001b[0m   outputs \u001b[38;5;241m=\u001b[39m execute\u001b[38;5;241m.\u001b[39mexecute_with_cancellation(\n\u001b[0;32m   1466\u001b[0m       name\u001b[38;5;241m.\u001b[39mdecode(\u001b[38;5;124m\"\u001b[39m\u001b[38;5;124mutf-8\u001b[39m\u001b[38;5;124m\"\u001b[39m),\n\u001b[0;32m   1467\u001b[0m       num_outputs\u001b[38;5;241m=\u001b[39mnum_outputs,\n\u001b[1;32m   (...)\u001b[0m\n\u001b[0;32m   1471\u001b[0m       cancellation_manager\u001b[38;5;241m=\u001b[39mcancellation_context,\n\u001b[0;32m   1472\u001b[0m   )\n",
      "File \u001b[1;32m~\\AppData\\Local\\Programs\\Python\\Python311\\Lib\\site-packages\\tensorflow\\python\\eager\\execute.py:53\u001b[0m, in \u001b[0;36mquick_execute\u001b[1;34m(op_name, num_outputs, inputs, attrs, ctx, name)\u001b[0m\n\u001b[0;32m     51\u001b[0m \u001b[38;5;28;01mtry\u001b[39;00m:\n\u001b[0;32m     52\u001b[0m   ctx\u001b[38;5;241m.\u001b[39mensure_initialized()\n\u001b[1;32m---> 53\u001b[0m   tensors \u001b[38;5;241m=\u001b[39m \u001b[43mpywrap_tfe\u001b[49m\u001b[38;5;241;43m.\u001b[39;49m\u001b[43mTFE_Py_Execute\u001b[49m\u001b[43m(\u001b[49m\u001b[43mctx\u001b[49m\u001b[38;5;241;43m.\u001b[39;49m\u001b[43m_handle\u001b[49m\u001b[43m,\u001b[49m\u001b[43m \u001b[49m\u001b[43mdevice_name\u001b[49m\u001b[43m,\u001b[49m\u001b[43m \u001b[49m\u001b[43mop_name\u001b[49m\u001b[43m,\u001b[49m\n\u001b[0;32m     54\u001b[0m \u001b[43m                                      \u001b[49m\u001b[43minputs\u001b[49m\u001b[43m,\u001b[49m\u001b[43m \u001b[49m\u001b[43mattrs\u001b[49m\u001b[43m,\u001b[49m\u001b[43m \u001b[49m\u001b[43mnum_outputs\u001b[49m\u001b[43m)\u001b[49m\n\u001b[0;32m     55\u001b[0m \u001b[38;5;28;01mexcept\u001b[39;00m core\u001b[38;5;241m.\u001b[39m_NotOkStatusException \u001b[38;5;28;01mas\u001b[39;00m e:\n\u001b[0;32m     56\u001b[0m   \u001b[38;5;28;01mif\u001b[39;00m name \u001b[38;5;129;01mis\u001b[39;00m \u001b[38;5;129;01mnot\u001b[39;00m \u001b[38;5;28;01mNone\u001b[39;00m:\n",
      "\u001b[1;31mKeyboardInterrupt\u001b[0m: "
     ]
    }
   ],
   "source": [
    "model.fit(X_train, y_train, epochs=2000, callbacks=[tb_callback,cp_callback])"
   ]
  },
  {
   "cell_type": "code",
   "execution_count": 138,
   "id": "19bc9989-6c49-4515-bd4f-ea0ded6b6ed6",
   "metadata": {},
   "outputs": [
    {
     "name": "stdout",
     "output_type": "stream",
     "text": [
      "Model: \"sequential_6\"\n",
      "_________________________________________________________________\n",
      " Layer (type)                Output Shape              Param #   \n",
      "=================================================================\n",
      " lstm_18 (LSTM)              (None, 30, 64)            48896     \n",
      "                                                                 \n",
      " lstm_19 (LSTM)              (None, 30, 128)           98816     \n",
      "                                                                 \n",
      " lstm_20 (LSTM)              (None, 64)                49408     \n",
      "                                                                 \n",
      " dense_18 (Dense)            (None, 64)                4160      \n",
      "                                                                 \n",
      " dense_19 (Dense)            (None, 32)                2080      \n",
      "                                                                 \n",
      " dense_20 (Dense)            (None, 10)                330       \n",
      "                                                                 \n",
      "=================================================================\n",
      "Total params: 203690 (795.66 KB)\n",
      "Trainable params: 203690 (795.66 KB)\n",
      "Non-trainable params: 0 (0.00 Byte)\n",
      "_________________________________________________________________\n"
     ]
    }
   ],
   "source": [
    "model.summary()"
   ]
  },
  {
   "cell_type": "code",
   "execution_count": 139,
   "id": "e4669d77-5271-4645-9ca3-8400e458c981",
   "metadata": {},
   "outputs": [
    {
     "name": "stdout",
     "output_type": "stream",
     "text": [
      "1/1 [==============================] - 0s 366ms/step\n"
     ]
    }
   ],
   "source": [
    "res = model.predict(X_test)"
   ]
  },
  {
   "cell_type": "code",
   "execution_count": 140,
   "id": "096ac27f-3c2b-4f30-bea8-3827eb74d890",
   "metadata": {},
   "outputs": [
    {
     "name": "stdout",
     "output_type": "stream",
     "text": [
      "[[2.40599945e-07 3.18861777e-12 1.89500264e-04 1.08517917e-04\n",
      "  9.48815401e-11 1.25660961e-06 1.77616093e-04 9.80501136e-05\n",
      "  6.33874379e-06 9.99418497e-01]\n",
      " [2.09859809e-06 3.12927934e-10 2.84362137e-01 7.13697672e-01\n",
      "  4.65162975e-06 9.51312245e-07 6.35822425e-06 8.96655001e-06\n",
      "  1.09118787e-07 1.91711658e-03]\n",
      " [9.99995470e-01 4.01217994e-06 8.86338691e-13 2.54601488e-19\n",
      "  1.45345671e-11 2.29975989e-23 5.50536105e-22 1.35536716e-23\n",
      "  4.25923474e-07 3.75922750e-24]\n",
      " [1.19901251e-03 4.35315887e-04 2.24113790e-03 5.14956890e-03\n",
      "  9.90937412e-01 1.79242443e-06 1.05608831e-06 1.36896460e-07\n",
      "  3.33286043e-05 1.26524333e-06]\n",
      " [4.92708106e-03 4.84178745e-04 1.35811567e-02 2.85145342e-02\n",
      "  9.52297330e-01 2.39859060e-06 1.02192007e-06 1.24352354e-07\n",
      "  1.87612633e-04 4.52473614e-06]\n",
      " [1.93845562e-09 3.04515290e-14 3.86182683e-06 2.18488458e-06\n",
      "  5.34224141e-13 5.07588538e-07 2.56644911e-04 4.11869223e-05\n",
      "  3.94937302e-07 9.99695301e-01]\n",
      " [1.62795714e-05 1.36792631e-08 2.41361201e-01 7.57923245e-01\n",
      "  8.43860107e-05 1.06597224e-06 2.76474225e-06 5.23448989e-06\n",
      "  8.68623431e-07 6.04954315e-04]\n",
      " [2.76960588e-09 1.08986496e-12 3.59336514e-06 3.13143437e-06\n",
      "  5.16857841e-11 5.12611296e-05 8.74319463e-04 6.46330082e-05\n",
      "  1.87626774e-05 9.98984277e-01]\n",
      " [7.33077002e-04 4.86643007e-03 3.21363012e-04 1.60432467e-03\n",
      "  9.92162049e-01 1.95553184e-05 1.93422693e-06 2.09147970e-08\n",
      "  2.90319498e-04 9.84060762e-07]\n",
      " [1.00000000e+00 6.97633657e-15 8.14303757e-13 8.61785778e-20\n",
      "  9.36321550e-13 1.63801432e-37 6.55613049e-32 4.11348967e-31\n",
      "  4.81453263e-17 1.07206608e-30]\n",
      " [9.00298528e-06 1.00874278e-08 1.29406974e-01 8.69612396e-01\n",
      "  6.66286433e-05 1.70793771e-06 3.09629650e-06 4.93509242e-06\n",
      "  1.00628506e-06 8.94173223e-04]\n",
      " [1.00000000e+00 0.00000000e+00 8.19954054e-34 1.97401430e-37\n",
      "  8.18720959e-38 0.00000000e+00 0.00000000e+00 0.00000000e+00\n",
      "  0.00000000e+00 0.00000000e+00]\n",
      " [6.96120196e-07 9.99993682e-01 4.68094869e-14 1.12301195e-14\n",
      "  4.62677008e-07 1.37404788e-09 4.80557112e-15 1.83986685e-22\n",
      "  5.07452751e-06 1.16401054e-16]\n",
      " [8.71411932e-04 4.45790938e-04 1.72754528e-03 4.96973936e-03\n",
      "  9.91945565e-01 2.45325123e-06 1.15070975e-06 1.09998155e-07\n",
      "  3.50734845e-05 1.23279597e-06]\n",
      " [1.52641580e-01 8.45395446e-01 1.64151466e-08 2.04356732e-09\n",
      "  1.68764687e-04 2.14558149e-09 4.94788308e-11 1.57642776e-14\n",
      "  1.79416919e-03 1.41867627e-12]]\n"
     ]
    }
   ],
   "source": [
    "print(res)"
   ]
  },
  {
   "cell_type": "code",
   "execution_count": 141,
   "id": "a195634c-1415-444f-8e64-8cb4fc68bc8a",
   "metadata": {},
   "outputs": [
    {
     "data": {
      "text/plain": [
       "'ඉ'"
      ]
     },
     "execution_count": 141,
     "metadata": {},
     "output_type": "execute_result"
    }
   ],
   "source": [
    "actions[np.argmax(res[4])]"
   ]
  },
  {
   "cell_type": "code",
   "execution_count": 142,
   "id": "935cfdd7-42d2-46bf-b916-8c62f085d083",
   "metadata": {},
   "outputs": [
    {
     "data": {
      "text/plain": [
       "'ඉ'"
      ]
     },
     "execution_count": 142,
     "metadata": {},
     "output_type": "execute_result"
    }
   ],
   "source": [
    "actions[np.argmax(y_test[4])]"
   ]
  },
  {
   "cell_type": "code",
   "execution_count": 143,
   "id": "ad5257da-0232-4608-84b6-2f446c25d7b7",
   "metadata": {},
   "outputs": [],
   "source": [
    "model.save('action.keras')"
   ]
  },
  {
   "cell_type": "code",
   "execution_count": null,
   "id": "370bb676-4dfd-42db-943f-aea49f5697f0",
   "metadata": {},
   "outputs": [],
   "source": []
  }
 ],
 "metadata": {
  "kernelspec": {
   "display_name": "Python 3 (ipykernel)",
   "language": "python",
   "name": "python3"
  },
  "language_info": {
   "codemirror_mode": {
    "name": "ipython",
    "version": 3
   },
   "file_extension": ".py",
   "mimetype": "text/x-python",
   "name": "python",
   "nbconvert_exporter": "python",
   "pygments_lexer": "ipython3",
   "version": "3.11.5"
  }
 },
 "nbformat": 4,
 "nbformat_minor": 5
}
