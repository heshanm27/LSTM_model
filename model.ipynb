{
 "cells": [
  {
   "cell_type": "code",
   "execution_count": 39,
   "id": "a6f9a33f-ca88-4533-b13d-9bc21e96da3e",
   "metadata": {},
   "outputs": [
    {
     "name": "stdout",
     "output_type": "stream",
     "text": [
      "Requirement already satisfied: tensorflow in c:\\users\\asus\\appdata\\local\\programs\\python\\python311\\lib\\site-packages (2.13.0)\n",
      "Requirement already satisfied: opencv-python in c:\\users\\asus\\appdata\\local\\programs\\python\\python311\\lib\\site-packages (4.8.0.76)\n",
      "Requirement already satisfied: mediapipe in c:\\users\\asus\\appdata\\local\\programs\\python\\python311\\lib\\site-packages (0.10.3)\n",
      "Requirement already satisfied: sklearn in c:\\users\\asus\\appdata\\local\\programs\\python\\python311\\lib\\site-packages (0.0.post7)\n",
      "Requirement already satisfied: matplotlib in c:\\users\\asus\\appdata\\local\\programs\\python\\python311\\lib\\site-packages (3.7.2)\n",
      "Requirement already satisfied: pillow in c:\\users\\asus\\appdata\\local\\programs\\python\\python311\\lib\\site-packages (10.0.0)\n",
      "Requirement already satisfied: tensorflow-intel==2.13.0 in c:\\users\\asus\\appdata\\local\\programs\\python\\python311\\lib\\site-packages (from tensorflow) (2.13.0)\n",
      "Requirement already satisfied: absl-py>=1.0.0 in c:\\users\\asus\\appdata\\local\\programs\\python\\python311\\lib\\site-packages (from tensorflow-intel==2.13.0->tensorflow) (1.4.0)\n",
      "Requirement already satisfied: astunparse>=1.6.0 in c:\\users\\asus\\appdata\\local\\programs\\python\\python311\\lib\\site-packages (from tensorflow-intel==2.13.0->tensorflow) (1.6.3)\n",
      "Requirement already satisfied: flatbuffers>=23.1.21 in c:\\users\\asus\\appdata\\local\\programs\\python\\python311\\lib\\site-packages (from tensorflow-intel==2.13.0->tensorflow) (23.5.26)\n",
      "Requirement already satisfied: gast<=0.4.0,>=0.2.1 in c:\\users\\asus\\appdata\\local\\programs\\python\\python311\\lib\\site-packages (from tensorflow-intel==2.13.0->tensorflow) (0.4.0)\n",
      "Requirement already satisfied: google-pasta>=0.1.1 in c:\\users\\asus\\appdata\\local\\programs\\python\\python311\\lib\\site-packages (from tensorflow-intel==2.13.0->tensorflow) (0.2.0)\n",
      "Requirement already satisfied: h5py>=2.9.0 in c:\\users\\asus\\appdata\\local\\programs\\python\\python311\\lib\\site-packages (from tensorflow-intel==2.13.0->tensorflow) (3.9.0)\n",
      "Requirement already satisfied: libclang>=13.0.0 in c:\\users\\asus\\appdata\\local\\programs\\python\\python311\\lib\\site-packages (from tensorflow-intel==2.13.0->tensorflow) (16.0.6)\n",
      "Requirement already satisfied: numpy<=1.24.3,>=1.22 in c:\\users\\asus\\appdata\\local\\programs\\python\\python311\\lib\\site-packages (from tensorflow-intel==2.13.0->tensorflow) (1.24.3)\n",
      "Requirement already satisfied: opt-einsum>=2.3.2 in c:\\users\\asus\\appdata\\local\\programs\\python\\python311\\lib\\site-packages (from tensorflow-intel==2.13.0->tensorflow) (3.3.0)\n",
      "Requirement already satisfied: packaging in c:\\users\\asus\\appdata\\local\\programs\\python\\python311\\lib\\site-packages (from tensorflow-intel==2.13.0->tensorflow) (23.1)\n",
      "Requirement already satisfied: protobuf!=4.21.0,!=4.21.1,!=4.21.2,!=4.21.3,!=4.21.4,!=4.21.5,<5.0.0dev,>=3.20.3 in c:\\users\\asus\\appdata\\local\\programs\\python\\python311\\lib\\site-packages (from tensorflow-intel==2.13.0->tensorflow) (3.20.3)\n",
      "Requirement already satisfied: setuptools in c:\\users\\asus\\appdata\\local\\programs\\python\\python311\\lib\\site-packages (from tensorflow-intel==2.13.0->tensorflow) (65.5.0)\n",
      "Requirement already satisfied: six>=1.12.0 in c:\\users\\asus\\appdata\\local\\programs\\python\\python311\\lib\\site-packages (from tensorflow-intel==2.13.0->tensorflow) (1.16.0)\n",
      "Requirement already satisfied: termcolor>=1.1.0 in c:\\users\\asus\\appdata\\local\\programs\\python\\python311\\lib\\site-packages (from tensorflow-intel==2.13.0->tensorflow) (2.3.0)\n",
      "Requirement already satisfied: typing-extensions<4.6.0,>=3.6.6 in c:\\users\\asus\\appdata\\local\\programs\\python\\python311\\lib\\site-packages (from tensorflow-intel==2.13.0->tensorflow) (4.5.0)\n",
      "Requirement already satisfied: wrapt>=1.11.0 in c:\\users\\asus\\appdata\\local\\programs\\python\\python311\\lib\\site-packages (from tensorflow-intel==2.13.0->tensorflow) (1.15.0)\n",
      "Requirement already satisfied: grpcio<2.0,>=1.24.3 in c:\\users\\asus\\appdata\\local\\programs\\python\\python311\\lib\\site-packages (from tensorflow-intel==2.13.0->tensorflow) (1.57.0)\n",
      "Requirement already satisfied: tensorboard<2.14,>=2.13 in c:\\users\\asus\\appdata\\local\\programs\\python\\python311\\lib\\site-packages (from tensorflow-intel==2.13.0->tensorflow) (2.13.0)\n",
      "Requirement already satisfied: tensorflow-estimator<2.14,>=2.13.0 in c:\\users\\asus\\appdata\\local\\programs\\python\\python311\\lib\\site-packages (from tensorflow-intel==2.13.0->tensorflow) (2.13.0)\n",
      "Requirement already satisfied: keras<2.14,>=2.13.1 in c:\\users\\asus\\appdata\\local\\programs\\python\\python311\\lib\\site-packages (from tensorflow-intel==2.13.0->tensorflow) (2.13.1)\n",
      "Requirement already satisfied: tensorflow-io-gcs-filesystem>=0.23.1 in c:\\users\\asus\\appdata\\local\\programs\\python\\python311\\lib\\site-packages (from tensorflow-intel==2.13.0->tensorflow) (0.31.0)\n",
      "Requirement already satisfied: attrs>=19.1.0 in c:\\users\\asus\\appdata\\local\\programs\\python\\python311\\lib\\site-packages (from mediapipe) (23.1.0)\n",
      "Requirement already satisfied: opencv-contrib-python in c:\\users\\asus\\appdata\\local\\programs\\python\\python311\\lib\\site-packages (from mediapipe) (4.8.0.76)\n",
      "Requirement already satisfied: sounddevice>=0.4.4 in c:\\users\\asus\\appdata\\local\\programs\\python\\python311\\lib\\site-packages (from mediapipe) (0.4.6)\n",
      "Requirement already satisfied: contourpy>=1.0.1 in c:\\users\\asus\\appdata\\local\\programs\\python\\python311\\lib\\site-packages (from matplotlib) (1.1.0)\n",
      "Requirement already satisfied: cycler>=0.10 in c:\\users\\asus\\appdata\\local\\programs\\python\\python311\\lib\\site-packages (from matplotlib) (0.11.0)\n",
      "Requirement already satisfied: fonttools>=4.22.0 in c:\\users\\asus\\appdata\\local\\programs\\python\\python311\\lib\\site-packages (from matplotlib) (4.42.1)\n",
      "Requirement already satisfied: kiwisolver>=1.0.1 in c:\\users\\asus\\appdata\\local\\programs\\python\\python311\\lib\\site-packages (from matplotlib) (1.4.5)\n",
      "Requirement already satisfied: pyparsing<3.1,>=2.3.1 in c:\\users\\asus\\appdata\\local\\programs\\python\\python311\\lib\\site-packages (from matplotlib) (3.0.9)\n",
      "Requirement already satisfied: python-dateutil>=2.7 in c:\\users\\asus\\appdata\\local\\programs\\python\\python311\\lib\\site-packages (from matplotlib) (2.8.2)\n",
      "Requirement already satisfied: CFFI>=1.0 in c:\\users\\asus\\appdata\\local\\programs\\python\\python311\\lib\\site-packages (from sounddevice>=0.4.4->mediapipe) (1.15.1)\n",
      "Requirement already satisfied: wheel<1.0,>=0.23.0 in c:\\users\\asus\\appdata\\local\\programs\\python\\python311\\lib\\site-packages (from astunparse>=1.6.0->tensorflow-intel==2.13.0->tensorflow) (0.41.2)\n",
      "Requirement already satisfied: pycparser in c:\\users\\asus\\appdata\\local\\programs\\python\\python311\\lib\\site-packages (from CFFI>=1.0->sounddevice>=0.4.4->mediapipe) (2.21)\n",
      "Requirement already satisfied: google-auth<3,>=1.6.3 in c:\\users\\asus\\appdata\\local\\programs\\python\\python311\\lib\\site-packages (from tensorboard<2.14,>=2.13->tensorflow-intel==2.13.0->tensorflow) (2.22.0)\n",
      "Requirement already satisfied: google-auth-oauthlib<1.1,>=0.5 in c:\\users\\asus\\appdata\\local\\programs\\python\\python311\\lib\\site-packages (from tensorboard<2.14,>=2.13->tensorflow-intel==2.13.0->tensorflow) (1.0.0)\n",
      "Requirement already satisfied: markdown>=2.6.8 in c:\\users\\asus\\appdata\\local\\programs\\python\\python311\\lib\\site-packages (from tensorboard<2.14,>=2.13->tensorflow-intel==2.13.0->tensorflow) (3.4.4)\n",
      "Requirement already satisfied: requests<3,>=2.21.0 in c:\\users\\asus\\appdata\\local\\programs\\python\\python311\\lib\\site-packages (from tensorboard<2.14,>=2.13->tensorflow-intel==2.13.0->tensorflow) (2.31.0)\n",
      "Requirement already satisfied: tensorboard-data-server<0.8.0,>=0.7.0 in c:\\users\\asus\\appdata\\local\\programs\\python\\python311\\lib\\site-packages (from tensorboard<2.14,>=2.13->tensorflow-intel==2.13.0->tensorflow) (0.7.1)\n",
      "Requirement already satisfied: werkzeug>=1.0.1 in c:\\users\\asus\\appdata\\local\\programs\\python\\python311\\lib\\site-packages (from tensorboard<2.14,>=2.13->tensorflow-intel==2.13.0->tensorflow) (2.3.7)\n",
      "Requirement already satisfied: cachetools<6.0,>=2.0.0 in c:\\users\\asus\\appdata\\local\\programs\\python\\python311\\lib\\site-packages (from google-auth<3,>=1.6.3->tensorboard<2.14,>=2.13->tensorflow-intel==2.13.0->tensorflow) (5.3.1)\n",
      "Requirement already satisfied: pyasn1-modules>=0.2.1 in c:\\users\\asus\\appdata\\local\\programs\\python\\python311\\lib\\site-packages (from google-auth<3,>=1.6.3->tensorboard<2.14,>=2.13->tensorflow-intel==2.13.0->tensorflow) (0.3.0)\n",
      "Requirement already satisfied: rsa<5,>=3.1.4 in c:\\users\\asus\\appdata\\local\\programs\\python\\python311\\lib\\site-packages (from google-auth<3,>=1.6.3->tensorboard<2.14,>=2.13->tensorflow-intel==2.13.0->tensorflow) (4.9)\n",
      "Requirement already satisfied: urllib3<2.0 in c:\\users\\asus\\appdata\\local\\programs\\python\\python311\\lib\\site-packages (from google-auth<3,>=1.6.3->tensorboard<2.14,>=2.13->tensorflow-intel==2.13.0->tensorflow) (1.26.16)\n",
      "Requirement already satisfied: requests-oauthlib>=0.7.0 in c:\\users\\asus\\appdata\\local\\programs\\python\\python311\\lib\\site-packages (from google-auth-oauthlib<1.1,>=0.5->tensorboard<2.14,>=2.13->tensorflow-intel==2.13.0->tensorflow) (1.3.1)\n",
      "Requirement already satisfied: charset-normalizer<4,>=2 in c:\\users\\asus\\appdata\\local\\programs\\python\\python311\\lib\\site-packages (from requests<3,>=2.21.0->tensorboard<2.14,>=2.13->tensorflow-intel==2.13.0->tensorflow) (3.2.0)\n",
      "Requirement already satisfied: idna<4,>=2.5 in c:\\users\\asus\\appdata\\local\\programs\\python\\python311\\lib\\site-packages (from requests<3,>=2.21.0->tensorboard<2.14,>=2.13->tensorflow-intel==2.13.0->tensorflow) (3.4)\n",
      "Requirement already satisfied: certifi>=2017.4.17 in c:\\users\\asus\\appdata\\local\\programs\\python\\python311\\lib\\site-packages (from requests<3,>=2.21.0->tensorboard<2.14,>=2.13->tensorflow-intel==2.13.0->tensorflow) (2023.7.22)\n",
      "Requirement already satisfied: MarkupSafe>=2.1.1 in c:\\users\\asus\\appdata\\local\\programs\\python\\python311\\lib\\site-packages (from werkzeug>=1.0.1->tensorboard<2.14,>=2.13->tensorflow-intel==2.13.0->tensorflow) (2.1.3)\n",
      "Requirement already satisfied: pyasn1<0.6.0,>=0.4.6 in c:\\users\\asus\\appdata\\local\\programs\\python\\python311\\lib\\site-packages (from pyasn1-modules>=0.2.1->google-auth<3,>=1.6.3->tensorboard<2.14,>=2.13->tensorflow-intel==2.13.0->tensorflow) (0.5.0)\n",
      "Requirement already satisfied: oauthlib>=3.0.0 in c:\\users\\asus\\appdata\\local\\programs\\python\\python311\\lib\\site-packages (from requests-oauthlib>=0.7.0->google-auth-oauthlib<1.1,>=0.5->tensorboard<2.14,>=2.13->tensorflow-intel==2.13.0->tensorflow) (3.2.2)\n"
     ]
    }
   ],
   "source": [
    "!pip install tensorflow  opencv-python mediapipe sklearn matplotlib pillow"
   ]
  },
  {
   "cell_type": "code",
   "execution_count": 40,
   "id": "a3cfcaa5-97f4-46fe-a777-aef34b81100c",
   "metadata": {},
   "outputs": [
    {
     "name": "stdout",
     "output_type": "stream",
     "text": [
      "Requirement already satisfied: pysocks in c:\\users\\asus\\appdata\\local\\programs\\python\\python311\\lib\\site-packages (1.7.1)\n",
      "Requirement already satisfied: scikit-learn in c:\\users\\asus\\appdata\\local\\programs\\python\\python311\\lib\\site-packages (1.3.2)\n",
      "Requirement already satisfied: numpy<2.0,>=1.17.3 in c:\\users\\asus\\appdata\\local\\programs\\python\\python311\\lib\\site-packages (from scikit-learn) (1.24.3)\n",
      "Requirement already satisfied: scipy>=1.5.0 in c:\\users\\asus\\appdata\\local\\programs\\python\\python311\\lib\\site-packages (from scikit-learn) (1.11.3)\n",
      "Requirement already satisfied: joblib>=1.1.1 in c:\\users\\asus\\appdata\\local\\programs\\python\\python311\\lib\\site-packages (from scikit-learn) (1.3.2)\n",
      "Requirement already satisfied: threadpoolctl>=2.0.0 in c:\\users\\asus\\appdata\\local\\programs\\python\\python311\\lib\\site-packages (from scikit-learn) (3.2.0)\n",
      "Note: you may need to restart the kernel to use updated packages.\n"
     ]
    }
   ],
   "source": [
    "pip install pysocks scikit-learn  "
   ]
  },
  {
   "cell_type": "code",
   "execution_count": 30,
   "id": "47c3ca77-3a66-4a23-a2b3-9949d5c07dae",
   "metadata": {},
   "outputs": [],
   "source": [
    "import cv2\n",
    "import numpy as np\n",
    "import os\n",
    "from matplotlib import pyplot as plt\n",
    "import time\n",
    "import mediapipe as mp\n",
    "from PIL import Image, ImageDraw, ImageFont\n",
    "import datetime\n"
   ]
  },
  {
   "cell_type": "code",
   "execution_count": 31,
   "id": "92685b2e-4045-470b-9152-249bed13b3cb",
   "metadata": {},
   "outputs": [],
   "source": [
    "from sklearn.model_selection import train_test_split\n",
    "from tensorflow.keras.utils import to_categorical\n",
    "import tensorflow as tf\n",
    "from tensorflow.keras.models import load_model"
   ]
  },
  {
   "cell_type": "code",
   "execution_count": 32,
   "id": "0eed04bf-e077-4537-823b-83ab737569aa",
   "metadata": {},
   "outputs": [],
   "source": [
    "# Path for exported data, numpy arrays\n",
    "DATA_PATH = os.path.join('MP_Data') \n",
    "current_directory = os.getcwd()\n",
    "# Actions that we try to detect\n",
    "#actions = np.array(['අ', 'ආ', 'ඇ','ඈ','ඉ','ඊ','උ','ඌ','එ','ඒ','ඔ','ඕ','ක්','ග්','ජ්','ට්','ද්','ණ්','ත්','ඩ්','න්','ප්','බ්','ම්','ය්','ර්','ල්','ව්','ස්','හ්'])\n",
    "# length_of_array = len(actions)\n",
    "# print(length_of_array)\n",
    "actions = np.array(['අ', 'ආ', 'ඇ','ඈ','ඉ','ඊ','උ','ඌ','එ','ඒ'])\t\n",
    "# actions = np.array(['අ', 'ආ', 'ඇ','ඈ','ඉ'])\t\n",
    "# actions = np.array(['ඊ','උ','ඌ','එ','ඒ'])\n",
    "# Thirty videos worth of data\n",
    "no_sequences = 90\n",
    "\n",
    "# Each One Video  going to be 30 frames in length\n",
    "sequence_length = 30\n",
    "\n",
    "# Folder start\n",
    "start_folder = 0"
   ]
  },
  {
   "cell_type": "code",
   "execution_count": 33,
   "id": "1815474c-8997-49ed-a755-2cdac1ac10e7",
   "metadata": {},
   "outputs": [],
   "source": [
    "label_map = {label:num for num, label in enumerate(actions)}"
   ]
  },
  {
   "cell_type": "code",
   "execution_count": 34,
   "id": "7fedd6f5-1e80-4aa3-9983-e6e9705824f3",
   "metadata": {},
   "outputs": [],
   "source": [
    "sequences, labels = [], []\n",
    "# loop each action\n",
    "for action in actions:\n",
    "    # Loop through the each action sequence(videos)\n",
    "    for sequence in np.array(os.listdir(os.path.join(DATA_PATH, action))).astype(int):\n",
    "        # this array will hold all the frame in one video\n",
    "        window = []\n",
    "        # Loop though the each frame 30(Frame)\n",
    "        for frame_num in range(sequence_length):\n",
    "            file_path = os.path.join(DATA_PATH, action, str(sequence), \"{}.npy\".format(frame_num))\n",
    "\n",
    "            if os.path.exists(file_path):\n",
    "                res = np.load(file_path)\n",
    "            else:\n",
    "                print(f\"Error: File not found at {file_path}\")\n",
    "            # # using np.load function load the saved np array from folder (path,which action,which video number,which frame number)\n",
    "            # res = np.load(os.path.join(DATA_PATH, action, str(sequence), \"{}.npy\".format(frame_num)))\n",
    "            # add loaded framee to window\n",
    "            window.append(res)\n",
    "        #    \n",
    "        sequences.append(window)\n",
    "        labels.append(label_map[action])"
   ]
  },
  {
   "cell_type": "code",
   "execution_count": 35,
   "id": "3bdf1a2d-250c-4c15-842c-c0d082ac0335",
   "metadata": {},
   "outputs": [
    {
     "data": {
      "text/plain": [
       "(900, 30, 126)"
      ]
     },
     "execution_count": 35,
     "metadata": {},
     "output_type": "execute_result"
    }
   ],
   "source": [
    "# shape should be 900(30 action 1 action has 30 videos) videos,30 frame each,126(21*3*2) key points in a frame\n",
    "np.array(sequences).shape"
   ]
  },
  {
   "cell_type": "code",
   "execution_count": 36,
   "id": "d2ff4474-ec3a-4a90-9f1b-8b0b3e5ea236",
   "metadata": {},
   "outputs": [
    {
     "data": {
      "text/plain": [
       "(900,)"
      ]
     },
     "execution_count": 36,
     "metadata": {},
     "output_type": "execute_result"
    }
   ],
   "source": [
    "np.array(labels).shape"
   ]
  },
  {
   "cell_type": "code",
   "execution_count": 37,
   "id": "bac8d493-963a-4d22-994b-ea1e5858f520",
   "metadata": {},
   "outputs": [],
   "source": [
    "X = np.array(sequences)"
   ]
  },
  {
   "cell_type": "code",
   "execution_count": 38,
   "id": "23f4a7be-6c56-4c5d-8fa6-12618b51629e",
   "metadata": {},
   "outputs": [],
   "source": [
    "y = to_categorical(labels).astype(int)"
   ]
  },
  {
   "cell_type": "code",
   "execution_count": 39,
   "id": "82488487-bc69-4f79-9ed9-57ee248480b0",
   "metadata": {},
   "outputs": [],
   "source": [
    "X_train, X_test, y_train, y_test = train_test_split(X, y, test_size=0.05)"
   ]
  },
  {
   "cell_type": "code",
   "execution_count": 40,
   "id": "6e1b1bee-2972-4b04-a334-8c0c4b3219ec",
   "metadata": {},
   "outputs": [],
   "source": [
    "from tensorflow.keras.models import Sequential\n",
    "# Make us able to action detection\n",
    "from tensorflow.keras.layers import LSTM, Dense\n",
    "# Make us able to monitor our modle during taining\n",
    "from tensorflow.keras.callbacks import TensorBoard"
   ]
  },
  {
   "cell_type": "code",
   "execution_count": 41,
   "id": "6b6c5e14-327d-4de4-aedf-ebcd600b9459",
   "metadata": {},
   "outputs": [],
   "source": [
    "# Get the current date in YYYYMMDD format\n",
    "current_date_time = datetime.datetime.now().strftime(\"%Y%m%d-%H%M%S\")\n",
    "\n",
    "checkpoint_path = \"checkpoints/cp-{epoch:04d}.ckpt\"\n",
    "checkpoint_dir = os.path.dirname(checkpoint_path)\n",
    "\n",
    "# Check if the checkpoint directory exists, if not, create it\n",
    "if not os.path.exists(checkpoint_dir):\n",
    "    os.makedirs(checkpoint_dir)\n",
    "\n",
    "# Check if a latest checkpoint exists\n",
    "latest_checkpoint = tf.train.latest_checkpoint(checkpoint_dir)\n",
    "\n",
    "\n",
    "cp_callback = tf.keras.callbacks.ModelCheckpoint(\n",
    "    filepath=checkpoint_path,  # Path to save the model weights\n",
    "    save_weights_only=True,     # Save only the model weights\n",
    "    verbose=1,                  # Verbosity mode, 1 for progress bar\n",
    "    save_freq=50          \n",
    ")\n",
    "\n"
   ]
  },
  {
   "cell_type": "code",
   "execution_count": 42,
   "id": "b29a3138-fd0d-4e78-9b8b-617061c996e2",
   "metadata": {},
   "outputs": [],
   "source": [
    "log_dir = os.path.join('Logs')\n",
    "tb_callback = TensorBoard(log_dir=log_dir)"
   ]
  },
  {
   "cell_type": "code",
   "execution_count": 47,
   "id": "4732931e-fce3-445e-b13e-303e4fd0c02b",
   "metadata": {},
   "outputs": [],
   "source": [
    "# load Sequential api\n",
    "model = Sequential()\n",
    "# add 3 layers of lstm model\n",
    "model.add(LSTM(64, return_sequences=True, activation='relu', input_shape=(30,126)))\n",
    "model.add(LSTM(128, return_sequences=True, activation='relu'))\n",
    "model.add(LSTM(64, return_sequences=False, activation='relu'))\n",
    "model.add(Dense(64, activation='relu'))\n",
    "model.add(Dense(32, activation='relu'))\n",
    "model.add(Dense(actions.shape[0], activation='softmax'))\n",
    "model.compile(optimizer='Adam', loss='categorical_crossentropy', metrics=['categorical_accuracy'])"
   ]
  },
  {
   "cell_type": "code",
   "execution_count": 44,
   "id": "0305c200-8ae2-4846-9795-02b144710854",
   "metadata": {},
   "outputs": [],
   "source": [
    "# If a latest checkpoint exists, load the weights and continue training\n",
    "# if latest_checkpoint:\n",
    "#     # print(f\"Loading weights from checkpoint: {latest_checkpoint}\")\n",
    "#     model.load_weights(latest_checkpoint)\n",
    "# else:\n",
    "#     if os.path.exists('action.h5'):\n",
    "#         # Load the pre-trained model from the H5 file\n",
    "#         model = tf.keras.models.load_model('action.h5')\n",
    "\n",
    "#         # Get the model summary\n",
    "#         model.summary()\n",
    "\n",
    "        # # Get the model weights\n",
    "        # model_weights = loaded_model.get_weights()\n",
    "        # model = model.set_weights(model_weights)\n",
    "\n"
   ]
  },
  {
   "cell_type": "code",
   "execution_count": 48,
   "id": "d8435e36-5834-4f53-a796-ae3718677c97",
   "metadata": {},
   "outputs": [
    {
     "name": "stdout",
     "output_type": "stream",
     "text": [
      "2/2 [==============================] - 1s 8ms/step - loss: 2.3001 - categorical_accuracy: 0.1333\n",
      "Test Accuracy: 0.13\n"
     ]
    }
   ],
   "source": [
    "# Evaluate the model on the test set\n",
    "loss, accuracy = model.evaluate(X_test, y_test)\n",
    "\n",
    "# Print the accuracy\n",
    "print(f\"Test Accuracy: {accuracy:.2f}\")"
   ]
  },
  {
   "cell_type": "code",
   "execution_count": 49,
   "id": "20351fc4-b899-4989-aa61-d90326965ba1",
   "metadata": {},
   "outputs": [
    {
     "name": "stdout",
     "output_type": "stream",
     "text": [
      "Epoch 1/2000\n",
      "11/27 [===========>..................] - ETA: 0s - loss: 2.3069 - categorical_accuracy: 0.1193\n",
      "Epoch 1: saving model to checkpoints\\cp-0001.ckpt\n",
      "27/27 [==============================] - 5s 28ms/step - loss: 2.3033 - categorical_accuracy: 0.1298\n",
      "Epoch 2/2000\n",
      "27/27 [==============================] - 1s 26ms/step - loss: 2.2386 - categorical_accuracy: 0.1754\n",
      "Epoch 3/2000\n",
      " 7/27 [======>.......................] - ETA: 0s - loss: 2.2299 - categorical_accuracy: 0.1518\n",
      "Epoch 3: saving model to checkpoints\\cp-0003.ckpt\n",
      "27/27 [==============================] - 1s 29ms/step - loss: 2.0957 - categorical_accuracy: 0.2199\n",
      "Epoch 4/2000\n",
      "27/27 [==============================] - 1s 26ms/step - loss: 2.1211 - categorical_accuracy: 0.2211\n",
      "Epoch 5/2000\n",
      " 3/27 [==>...........................] - ETA: 0s - loss: 1.8631 - categorical_accuracy: 0.3021\n",
      "Epoch 5: saving model to checkpoints\\cp-0005.ckpt\n",
      "27/27 [==============================] - 1s 28ms/step - loss: 1.8057 - categorical_accuracy: 0.3053\n",
      "Epoch 6/2000\n",
      "27/27 [==============================] - 1s 27ms/step - loss: 1.6568 - categorical_accuracy: 0.3591\n",
      "Epoch 7/2000\n",
      "\n",
      "Epoch 7: saving model to checkpoints\\cp-0007.ckpt\n",
      "27/27 [==============================] - 1s 27ms/step - loss: 1.4038 - categorical_accuracy: 0.4058\n",
      "Epoch 8/2000\n",
      "23/27 [========================>.....] - ETA: 0s - loss: 1.1921 - categorical_accuracy: 0.4429\n",
      "Epoch 8: saving model to checkpoints\\cp-0008.ckpt\n",
      "27/27 [==============================] - 1s 28ms/step - loss: 1.1666 - categorical_accuracy: 0.4608\n",
      "Epoch 9/2000\n",
      "27/27 [==============================] - 1s 28ms/step - loss: 1.1551 - categorical_accuracy: 0.5018\n",
      "Epoch 10/2000\n",
      "19/27 [====================>.........] - ETA: 0s - loss: 1.0457 - categorical_accuracy: 0.5164\n",
      "Epoch 10: saving model to checkpoints\\cp-0010.ckpt\n",
      "27/27 [==============================] - 1s 30ms/step - loss: 1.0525 - categorical_accuracy: 0.5158\n",
      "Epoch 11/2000\n",
      "27/27 [==============================] - 1s 26ms/step - loss: 0.9361 - categorical_accuracy: 0.5708\n",
      "Epoch 12/2000\n",
      "15/27 [===============>..............] - ETA: 0s - loss: 0.7800 - categorical_accuracy: 0.6479\n",
      "Epoch 12: saving model to checkpoints\\cp-0012.ckpt\n",
      "27/27 [==============================] - 1s 28ms/step - loss: 0.7520 - categorical_accuracy: 0.6725\n",
      "Epoch 13/2000\n",
      "27/27 [==============================] - 1s 28ms/step - loss: 0.7862 - categorical_accuracy: 0.6667\n",
      "Epoch 14/2000\n",
      "11/27 [===========>..................] - ETA: 0s - loss: 1.1027 - categorical_accuracy: 0.5994\n",
      "Epoch 14: saving model to checkpoints\\cp-0014.ckpt\n",
      "27/27 [==============================] - 1s 29ms/step - loss: 0.9772 - categorical_accuracy: 0.6175\n",
      "Epoch 15/2000\n",
      "27/27 [==============================] - 1s 28ms/step - loss: 0.7456 - categorical_accuracy: 0.6737\n",
      "Epoch 16/2000\n",
      " 7/27 [======>.......................] - ETA: 0s - loss: 0.6640 - categorical_accuracy: 0.6741\n",
      "Epoch 16: saving model to checkpoints\\cp-0016.ckpt\n",
      "27/27 [==============================] - 1s 28ms/step - loss: 0.6124 - categorical_accuracy: 0.7099\n",
      "Epoch 17/2000\n",
      "27/27 [==============================] - 1s 26ms/step - loss: 0.6137 - categorical_accuracy: 0.7193\n",
      "Epoch 18/2000\n",
      " 3/27 [==>...........................] - ETA: 0s - loss: 0.4908 - categorical_accuracy: 0.7708\n",
      "Epoch 18: saving model to checkpoints\\cp-0018.ckpt\n",
      "27/27 [==============================] - 1s 29ms/step - loss: 0.4825 - categorical_accuracy: 0.7813\n",
      "Epoch 19/2000\n",
      "25/27 [==========================>...] - ETA: 0s - loss: 0.3890 - categorical_accuracy: 0.8275\n",
      "Epoch 19: saving model to checkpoints\\cp-0019.ckpt\n",
      "27/27 [==============================] - 1s 29ms/step - loss: 0.3891 - categorical_accuracy: 0.8257\n",
      "Epoch 20/2000\n",
      "27/27 [==============================] - 1s 27ms/step - loss: 0.5411 - categorical_accuracy: 0.7520\n",
      "Epoch 21/2000\n",
      "21/27 [======================>.......] - ETA: 0s - loss: 0.5526 - categorical_accuracy: 0.7515\n",
      "Epoch 21: saving model to checkpoints\\cp-0021.ckpt\n",
      "27/27 [==============================] - 1s 29ms/step - loss: 0.5437 - categorical_accuracy: 0.7544\n",
      "Epoch 22/2000\n",
      "27/27 [==============================] - 1s 26ms/step - loss: 0.4140 - categorical_accuracy: 0.8152\n",
      "Epoch 23/2000\n",
      "17/27 [=================>............] - ETA: 0s - loss: 0.6931 - categorical_accuracy: 0.7243\n",
      "Epoch 23: saving model to checkpoints\\cp-0023.ckpt\n",
      "27/27 [==============================] - 1s 29ms/step - loss: 0.7027 - categorical_accuracy: 0.7310\n",
      "Epoch 24/2000\n",
      "27/27 [==============================] - 1s 26ms/step - loss: 0.4367 - categorical_accuracy: 0.8000\n",
      "Epoch 25/2000\n",
      "13/27 [=============>................] - ETA: 0s - loss: 0.3808 - categorical_accuracy: 0.8125\n",
      "Epoch 25: saving model to checkpoints\\cp-0025.ckpt\n",
      "27/27 [==============================] - 1s 30ms/step - loss: 0.3890 - categorical_accuracy: 0.8211\n",
      "Epoch 26/2000\n",
      "27/27 [==============================] - 1s 26ms/step - loss: 0.4075 - categorical_accuracy: 0.8047\n",
      "Epoch 27/2000\n",
      "10/27 [==========>...................] - ETA: 0s - loss: 0.5336 - categorical_accuracy: 0.7563\n",
      "Epoch 27: saving model to checkpoints\\cp-0027.ckpt\n",
      "27/27 [==============================] - 1s 28ms/step - loss: 0.4463 - categorical_accuracy: 0.7942\n",
      "Epoch 28/2000\n",
      "27/27 [==============================] - 1s 27ms/step - loss: 0.3580 - categorical_accuracy: 0.8234\n",
      "Epoch 29/2000\n",
      " 5/27 [====>.........................] - ETA: 0s - loss: 0.3204 - categorical_accuracy: 0.8438\n",
      "Epoch 29: saving model to checkpoints\\cp-0029.ckpt\n",
      "27/27 [==============================] - 1s 29ms/step - loss: 0.3837 - categorical_accuracy: 0.8175\n",
      "Epoch 30/2000\n",
      "27/27 [==============================] - 1s 27ms/step - loss: 0.3688 - categorical_accuracy: 0.8316\n",
      "Epoch 31/2000\n",
      " 1/27 [>.............................] - ETA: 0s - loss: 0.2754 - categorical_accuracy: 0.9062\n",
      "Epoch 31: saving model to checkpoints\\cp-0031.ckpt\n",
      "27/27 [==============================] - 1s 29ms/step - loss: 0.4172 - categorical_accuracy: 0.7988\n",
      "Epoch 32/2000\n"
     ]
    },
    {
     "ename": "KeyboardInterrupt",
     "evalue": "",
     "output_type": "error",
     "traceback": [
      "\u001b[1;31m---------------------------------------------------------------------------\u001b[0m",
      "\u001b[1;31mKeyboardInterrupt\u001b[0m                         Traceback (most recent call last)",
      "Cell \u001b[1;32mIn[49], line 1\u001b[0m\n\u001b[1;32m----> 1\u001b[0m \u001b[43mmodel\u001b[49m\u001b[38;5;241;43m.\u001b[39;49m\u001b[43mfit\u001b[49m\u001b[43m(\u001b[49m\u001b[43mX_train\u001b[49m\u001b[43m,\u001b[49m\u001b[43m \u001b[49m\u001b[43my_train\u001b[49m\u001b[43m,\u001b[49m\u001b[43m \u001b[49m\u001b[43mepochs\u001b[49m\u001b[38;5;241;43m=\u001b[39;49m\u001b[38;5;241;43m2000\u001b[39;49m\u001b[43m,\u001b[49m\u001b[43m \u001b[49m\u001b[43mcallbacks\u001b[49m\u001b[38;5;241;43m=\u001b[39;49m\u001b[43m[\u001b[49m\u001b[43mtb_callback\u001b[49m\u001b[43m,\u001b[49m\u001b[43mcp_callback\u001b[49m\u001b[43m]\u001b[49m\u001b[43m)\u001b[49m\n",
      "File \u001b[1;32m~\\AppData\\Local\\Programs\\Python\\Python311\\Lib\\site-packages\\keras\\src\\utils\\traceback_utils.py:65\u001b[0m, in \u001b[0;36mfilter_traceback.<locals>.error_handler\u001b[1;34m(*args, **kwargs)\u001b[0m\n\u001b[0;32m     63\u001b[0m filtered_tb \u001b[38;5;241m=\u001b[39m \u001b[38;5;28;01mNone\u001b[39;00m\n\u001b[0;32m     64\u001b[0m \u001b[38;5;28;01mtry\u001b[39;00m:\n\u001b[1;32m---> 65\u001b[0m     \u001b[38;5;28;01mreturn\u001b[39;00m \u001b[43mfn\u001b[49m\u001b[43m(\u001b[49m\u001b[38;5;241;43m*\u001b[39;49m\u001b[43margs\u001b[49m\u001b[43m,\u001b[49m\u001b[43m \u001b[49m\u001b[38;5;241;43m*\u001b[39;49m\u001b[38;5;241;43m*\u001b[39;49m\u001b[43mkwargs\u001b[49m\u001b[43m)\u001b[49m\n\u001b[0;32m     66\u001b[0m \u001b[38;5;28;01mexcept\u001b[39;00m \u001b[38;5;167;01mException\u001b[39;00m \u001b[38;5;28;01mas\u001b[39;00m e:\n\u001b[0;32m     67\u001b[0m     filtered_tb \u001b[38;5;241m=\u001b[39m _process_traceback_frames(e\u001b[38;5;241m.\u001b[39m__traceback__)\n",
      "File \u001b[1;32m~\\AppData\\Local\\Programs\\Python\\Python311\\Lib\\site-packages\\keras\\src\\engine\\training.py:1742\u001b[0m, in \u001b[0;36mModel.fit\u001b[1;34m(self, x, y, batch_size, epochs, verbose, callbacks, validation_split, validation_data, shuffle, class_weight, sample_weight, initial_epoch, steps_per_epoch, validation_steps, validation_batch_size, validation_freq, max_queue_size, workers, use_multiprocessing)\u001b[0m\n\u001b[0;32m   1734\u001b[0m \u001b[38;5;28;01mwith\u001b[39;00m tf\u001b[38;5;241m.\u001b[39mprofiler\u001b[38;5;241m.\u001b[39mexperimental\u001b[38;5;241m.\u001b[39mTrace(\n\u001b[0;32m   1735\u001b[0m     \u001b[38;5;124m\"\u001b[39m\u001b[38;5;124mtrain\u001b[39m\u001b[38;5;124m\"\u001b[39m,\n\u001b[0;32m   1736\u001b[0m     epoch_num\u001b[38;5;241m=\u001b[39mepoch,\n\u001b[1;32m   (...)\u001b[0m\n\u001b[0;32m   1739\u001b[0m     _r\u001b[38;5;241m=\u001b[39m\u001b[38;5;241m1\u001b[39m,\n\u001b[0;32m   1740\u001b[0m ):\n\u001b[0;32m   1741\u001b[0m     callbacks\u001b[38;5;241m.\u001b[39mon_train_batch_begin(step)\n\u001b[1;32m-> 1742\u001b[0m     tmp_logs \u001b[38;5;241m=\u001b[39m \u001b[38;5;28;43mself\u001b[39;49m\u001b[38;5;241;43m.\u001b[39;49m\u001b[43mtrain_function\u001b[49m\u001b[43m(\u001b[49m\u001b[43miterator\u001b[49m\u001b[43m)\u001b[49m\n\u001b[0;32m   1743\u001b[0m     \u001b[38;5;28;01mif\u001b[39;00m data_handler\u001b[38;5;241m.\u001b[39mshould_sync:\n\u001b[0;32m   1744\u001b[0m         context\u001b[38;5;241m.\u001b[39masync_wait()\n",
      "File \u001b[1;32m~\\AppData\\Local\\Programs\\Python\\Python311\\Lib\\site-packages\\tensorflow\\python\\util\\traceback_utils.py:150\u001b[0m, in \u001b[0;36mfilter_traceback.<locals>.error_handler\u001b[1;34m(*args, **kwargs)\u001b[0m\n\u001b[0;32m    148\u001b[0m filtered_tb \u001b[38;5;241m=\u001b[39m \u001b[38;5;28;01mNone\u001b[39;00m\n\u001b[0;32m    149\u001b[0m \u001b[38;5;28;01mtry\u001b[39;00m:\n\u001b[1;32m--> 150\u001b[0m   \u001b[38;5;28;01mreturn\u001b[39;00m \u001b[43mfn\u001b[49m\u001b[43m(\u001b[49m\u001b[38;5;241;43m*\u001b[39;49m\u001b[43margs\u001b[49m\u001b[43m,\u001b[49m\u001b[43m \u001b[49m\u001b[38;5;241;43m*\u001b[39;49m\u001b[38;5;241;43m*\u001b[39;49m\u001b[43mkwargs\u001b[49m\u001b[43m)\u001b[49m\n\u001b[0;32m    151\u001b[0m \u001b[38;5;28;01mexcept\u001b[39;00m \u001b[38;5;167;01mException\u001b[39;00m \u001b[38;5;28;01mas\u001b[39;00m e:\n\u001b[0;32m    152\u001b[0m   filtered_tb \u001b[38;5;241m=\u001b[39m _process_traceback_frames(e\u001b[38;5;241m.\u001b[39m__traceback__)\n",
      "File \u001b[1;32m~\\AppData\\Local\\Programs\\Python\\Python311\\Lib\\site-packages\\tensorflow\\python\\eager\\polymorphic_function\\polymorphic_function.py:825\u001b[0m, in \u001b[0;36mFunction.__call__\u001b[1;34m(self, *args, **kwds)\u001b[0m\n\u001b[0;32m    822\u001b[0m compiler \u001b[38;5;241m=\u001b[39m \u001b[38;5;124m\"\u001b[39m\u001b[38;5;124mxla\u001b[39m\u001b[38;5;124m\"\u001b[39m \u001b[38;5;28;01mif\u001b[39;00m \u001b[38;5;28mself\u001b[39m\u001b[38;5;241m.\u001b[39m_jit_compile \u001b[38;5;28;01melse\u001b[39;00m \u001b[38;5;124m\"\u001b[39m\u001b[38;5;124mnonXla\u001b[39m\u001b[38;5;124m\"\u001b[39m\n\u001b[0;32m    824\u001b[0m \u001b[38;5;28;01mwith\u001b[39;00m OptionalXlaContext(\u001b[38;5;28mself\u001b[39m\u001b[38;5;241m.\u001b[39m_jit_compile):\n\u001b[1;32m--> 825\u001b[0m   result \u001b[38;5;241m=\u001b[39m \u001b[38;5;28;43mself\u001b[39;49m\u001b[38;5;241;43m.\u001b[39;49m\u001b[43m_call\u001b[49m\u001b[43m(\u001b[49m\u001b[38;5;241;43m*\u001b[39;49m\u001b[43margs\u001b[49m\u001b[43m,\u001b[49m\u001b[43m \u001b[49m\u001b[38;5;241;43m*\u001b[39;49m\u001b[38;5;241;43m*\u001b[39;49m\u001b[43mkwds\u001b[49m\u001b[43m)\u001b[49m\n\u001b[0;32m    827\u001b[0m new_tracing_count \u001b[38;5;241m=\u001b[39m \u001b[38;5;28mself\u001b[39m\u001b[38;5;241m.\u001b[39mexperimental_get_tracing_count()\n\u001b[0;32m    828\u001b[0m without_tracing \u001b[38;5;241m=\u001b[39m (tracing_count \u001b[38;5;241m==\u001b[39m new_tracing_count)\n",
      "File \u001b[1;32m~\\AppData\\Local\\Programs\\Python\\Python311\\Lib\\site-packages\\tensorflow\\python\\eager\\polymorphic_function\\polymorphic_function.py:857\u001b[0m, in \u001b[0;36mFunction._call\u001b[1;34m(self, *args, **kwds)\u001b[0m\n\u001b[0;32m    854\u001b[0m   \u001b[38;5;28mself\u001b[39m\u001b[38;5;241m.\u001b[39m_lock\u001b[38;5;241m.\u001b[39mrelease()\n\u001b[0;32m    855\u001b[0m   \u001b[38;5;66;03m# In this case we have created variables on the first call, so we run the\u001b[39;00m\n\u001b[0;32m    856\u001b[0m   \u001b[38;5;66;03m# defunned version which is guaranteed to never create variables.\u001b[39;00m\n\u001b[1;32m--> 857\u001b[0m   \u001b[38;5;28;01mreturn\u001b[39;00m \u001b[38;5;28;43mself\u001b[39;49m\u001b[38;5;241;43m.\u001b[39;49m\u001b[43m_no_variable_creation_fn\u001b[49m\u001b[43m(\u001b[49m\u001b[38;5;241;43m*\u001b[39;49m\u001b[43margs\u001b[49m\u001b[43m,\u001b[49m\u001b[43m \u001b[49m\u001b[38;5;241;43m*\u001b[39;49m\u001b[38;5;241;43m*\u001b[39;49m\u001b[43mkwds\u001b[49m\u001b[43m)\u001b[49m  \u001b[38;5;66;03m# pylint: disable=not-callable\u001b[39;00m\n\u001b[0;32m    858\u001b[0m \u001b[38;5;28;01melif\u001b[39;00m \u001b[38;5;28mself\u001b[39m\u001b[38;5;241m.\u001b[39m_variable_creation_fn \u001b[38;5;129;01mis\u001b[39;00m \u001b[38;5;129;01mnot\u001b[39;00m \u001b[38;5;28;01mNone\u001b[39;00m:\n\u001b[0;32m    859\u001b[0m   \u001b[38;5;66;03m# Release the lock early so that multiple threads can perform the call\u001b[39;00m\n\u001b[0;32m    860\u001b[0m   \u001b[38;5;66;03m# in parallel.\u001b[39;00m\n\u001b[0;32m    861\u001b[0m   \u001b[38;5;28mself\u001b[39m\u001b[38;5;241m.\u001b[39m_lock\u001b[38;5;241m.\u001b[39mrelease()\n",
      "File \u001b[1;32m~\\AppData\\Local\\Programs\\Python\\Python311\\Lib\\site-packages\\tensorflow\\python\\eager\\polymorphic_function\\tracing_compiler.py:148\u001b[0m, in \u001b[0;36mTracingCompiler.__call__\u001b[1;34m(self, *args, **kwargs)\u001b[0m\n\u001b[0;32m    145\u001b[0m \u001b[38;5;28;01mwith\u001b[39;00m \u001b[38;5;28mself\u001b[39m\u001b[38;5;241m.\u001b[39m_lock:\n\u001b[0;32m    146\u001b[0m   (concrete_function,\n\u001b[0;32m    147\u001b[0m    filtered_flat_args) \u001b[38;5;241m=\u001b[39m \u001b[38;5;28mself\u001b[39m\u001b[38;5;241m.\u001b[39m_maybe_define_function(args, kwargs)\n\u001b[1;32m--> 148\u001b[0m \u001b[38;5;28;01mreturn\u001b[39;00m \u001b[43mconcrete_function\u001b[49m\u001b[38;5;241;43m.\u001b[39;49m\u001b[43m_call_flat\u001b[49m\u001b[43m(\u001b[49m\n\u001b[0;32m    149\u001b[0m \u001b[43m    \u001b[49m\u001b[43mfiltered_flat_args\u001b[49m\u001b[43m,\u001b[49m\u001b[43m \u001b[49m\u001b[43mcaptured_inputs\u001b[49m\u001b[38;5;241;43m=\u001b[39;49m\u001b[43mconcrete_function\u001b[49m\u001b[38;5;241;43m.\u001b[39;49m\u001b[43mcaptured_inputs\u001b[49m\u001b[43m)\u001b[49m\n",
      "File \u001b[1;32m~\\AppData\\Local\\Programs\\Python\\Python311\\Lib\\site-packages\\tensorflow\\python\\eager\\polymorphic_function\\monomorphic_function.py:1349\u001b[0m, in \u001b[0;36mConcreteFunction._call_flat\u001b[1;34m(self, args, captured_inputs)\u001b[0m\n\u001b[0;32m   1345\u001b[0m possible_gradient_type \u001b[38;5;241m=\u001b[39m gradients_util\u001b[38;5;241m.\u001b[39mPossibleTapeGradientTypes(args)\n\u001b[0;32m   1346\u001b[0m \u001b[38;5;28;01mif\u001b[39;00m (possible_gradient_type \u001b[38;5;241m==\u001b[39m gradients_util\u001b[38;5;241m.\u001b[39mPOSSIBLE_GRADIENT_TYPES_NONE\n\u001b[0;32m   1347\u001b[0m     \u001b[38;5;129;01mand\u001b[39;00m executing_eagerly):\n\u001b[0;32m   1348\u001b[0m   \u001b[38;5;66;03m# No tape is watching; skip to running the function.\u001b[39;00m\n\u001b[1;32m-> 1349\u001b[0m   \u001b[38;5;28;01mreturn\u001b[39;00m \u001b[38;5;28mself\u001b[39m\u001b[38;5;241m.\u001b[39m_build_call_outputs(\u001b[38;5;28;43mself\u001b[39;49m\u001b[38;5;241;43m.\u001b[39;49m\u001b[43m_inference_function\u001b[49m\u001b[43m(\u001b[49m\u001b[38;5;241;43m*\u001b[39;49m\u001b[43margs\u001b[49m\u001b[43m)\u001b[49m)\n\u001b[0;32m   1350\u001b[0m forward_backward \u001b[38;5;241m=\u001b[39m \u001b[38;5;28mself\u001b[39m\u001b[38;5;241m.\u001b[39m_select_forward_and_backward_functions(\n\u001b[0;32m   1351\u001b[0m     args,\n\u001b[0;32m   1352\u001b[0m     possible_gradient_type,\n\u001b[0;32m   1353\u001b[0m     executing_eagerly)\n\u001b[0;32m   1354\u001b[0m forward_function, args_with_tangents \u001b[38;5;241m=\u001b[39m forward_backward\u001b[38;5;241m.\u001b[39mforward()\n",
      "File \u001b[1;32m~\\AppData\\Local\\Programs\\Python\\Python311\\Lib\\site-packages\\tensorflow\\python\\eager\\polymorphic_function\\atomic_function.py:196\u001b[0m, in \u001b[0;36mAtomicFunction.__call__\u001b[1;34m(self, *args)\u001b[0m\n\u001b[0;32m    194\u001b[0m \u001b[38;5;28;01mwith\u001b[39;00m record\u001b[38;5;241m.\u001b[39mstop_recording():\n\u001b[0;32m    195\u001b[0m   \u001b[38;5;28;01mif\u001b[39;00m \u001b[38;5;28mself\u001b[39m\u001b[38;5;241m.\u001b[39m_bound_context\u001b[38;5;241m.\u001b[39mexecuting_eagerly():\n\u001b[1;32m--> 196\u001b[0m     outputs \u001b[38;5;241m=\u001b[39m \u001b[38;5;28;43mself\u001b[39;49m\u001b[38;5;241;43m.\u001b[39;49m\u001b[43m_bound_context\u001b[49m\u001b[38;5;241;43m.\u001b[39;49m\u001b[43mcall_function\u001b[49m\u001b[43m(\u001b[49m\n\u001b[0;32m    197\u001b[0m \u001b[43m        \u001b[49m\u001b[38;5;28;43mself\u001b[39;49m\u001b[38;5;241;43m.\u001b[39;49m\u001b[43mname\u001b[49m\u001b[43m,\u001b[49m\n\u001b[0;32m    198\u001b[0m \u001b[43m        \u001b[49m\u001b[38;5;28;43mlist\u001b[39;49m\u001b[43m(\u001b[49m\u001b[43margs\u001b[49m\u001b[43m)\u001b[49m\u001b[43m,\u001b[49m\n\u001b[0;32m    199\u001b[0m \u001b[43m        \u001b[49m\u001b[38;5;28;43mlen\u001b[39;49m\u001b[43m(\u001b[49m\u001b[38;5;28;43mself\u001b[39;49m\u001b[38;5;241;43m.\u001b[39;49m\u001b[43mfunction_type\u001b[49m\u001b[38;5;241;43m.\u001b[39;49m\u001b[43mflat_outputs\u001b[49m\u001b[43m)\u001b[49m\u001b[43m,\u001b[49m\n\u001b[0;32m    200\u001b[0m \u001b[43m    \u001b[49m\u001b[43m)\u001b[49m\n\u001b[0;32m    201\u001b[0m   \u001b[38;5;28;01melse\u001b[39;00m:\n\u001b[0;32m    202\u001b[0m     outputs \u001b[38;5;241m=\u001b[39m make_call_op_in_graph(\u001b[38;5;28mself\u001b[39m, \u001b[38;5;28mlist\u001b[39m(args))\n",
      "File \u001b[1;32m~\\AppData\\Local\\Programs\\Python\\Python311\\Lib\\site-packages\\tensorflow\\python\\eager\\context.py:1457\u001b[0m, in \u001b[0;36mContext.call_function\u001b[1;34m(self, name, tensor_inputs, num_outputs)\u001b[0m\n\u001b[0;32m   1455\u001b[0m cancellation_context \u001b[38;5;241m=\u001b[39m cancellation\u001b[38;5;241m.\u001b[39mcontext()\n\u001b[0;32m   1456\u001b[0m \u001b[38;5;28;01mif\u001b[39;00m cancellation_context \u001b[38;5;129;01mis\u001b[39;00m \u001b[38;5;28;01mNone\u001b[39;00m:\n\u001b[1;32m-> 1457\u001b[0m   outputs \u001b[38;5;241m=\u001b[39m \u001b[43mexecute\u001b[49m\u001b[38;5;241;43m.\u001b[39;49m\u001b[43mexecute\u001b[49m\u001b[43m(\u001b[49m\n\u001b[0;32m   1458\u001b[0m \u001b[43m      \u001b[49m\u001b[43mname\u001b[49m\u001b[38;5;241;43m.\u001b[39;49m\u001b[43mdecode\u001b[49m\u001b[43m(\u001b[49m\u001b[38;5;124;43m\"\u001b[39;49m\u001b[38;5;124;43mutf-8\u001b[39;49m\u001b[38;5;124;43m\"\u001b[39;49m\u001b[43m)\u001b[49m\u001b[43m,\u001b[49m\n\u001b[0;32m   1459\u001b[0m \u001b[43m      \u001b[49m\u001b[43mnum_outputs\u001b[49m\u001b[38;5;241;43m=\u001b[39;49m\u001b[43mnum_outputs\u001b[49m\u001b[43m,\u001b[49m\n\u001b[0;32m   1460\u001b[0m \u001b[43m      \u001b[49m\u001b[43minputs\u001b[49m\u001b[38;5;241;43m=\u001b[39;49m\u001b[43mtensor_inputs\u001b[49m\u001b[43m,\u001b[49m\n\u001b[0;32m   1461\u001b[0m \u001b[43m      \u001b[49m\u001b[43mattrs\u001b[49m\u001b[38;5;241;43m=\u001b[39;49m\u001b[43mattrs\u001b[49m\u001b[43m,\u001b[49m\n\u001b[0;32m   1462\u001b[0m \u001b[43m      \u001b[49m\u001b[43mctx\u001b[49m\u001b[38;5;241;43m=\u001b[39;49m\u001b[38;5;28;43mself\u001b[39;49m\u001b[43m,\u001b[49m\n\u001b[0;32m   1463\u001b[0m \u001b[43m  \u001b[49m\u001b[43m)\u001b[49m\n\u001b[0;32m   1464\u001b[0m \u001b[38;5;28;01melse\u001b[39;00m:\n\u001b[0;32m   1465\u001b[0m   outputs \u001b[38;5;241m=\u001b[39m execute\u001b[38;5;241m.\u001b[39mexecute_with_cancellation(\n\u001b[0;32m   1466\u001b[0m       name\u001b[38;5;241m.\u001b[39mdecode(\u001b[38;5;124m\"\u001b[39m\u001b[38;5;124mutf-8\u001b[39m\u001b[38;5;124m\"\u001b[39m),\n\u001b[0;32m   1467\u001b[0m       num_outputs\u001b[38;5;241m=\u001b[39mnum_outputs,\n\u001b[1;32m   (...)\u001b[0m\n\u001b[0;32m   1471\u001b[0m       cancellation_manager\u001b[38;5;241m=\u001b[39mcancellation_context,\n\u001b[0;32m   1472\u001b[0m   )\n",
      "File \u001b[1;32m~\\AppData\\Local\\Programs\\Python\\Python311\\Lib\\site-packages\\tensorflow\\python\\eager\\execute.py:53\u001b[0m, in \u001b[0;36mquick_execute\u001b[1;34m(op_name, num_outputs, inputs, attrs, ctx, name)\u001b[0m\n\u001b[0;32m     51\u001b[0m \u001b[38;5;28;01mtry\u001b[39;00m:\n\u001b[0;32m     52\u001b[0m   ctx\u001b[38;5;241m.\u001b[39mensure_initialized()\n\u001b[1;32m---> 53\u001b[0m   tensors \u001b[38;5;241m=\u001b[39m \u001b[43mpywrap_tfe\u001b[49m\u001b[38;5;241;43m.\u001b[39;49m\u001b[43mTFE_Py_Execute\u001b[49m\u001b[43m(\u001b[49m\u001b[43mctx\u001b[49m\u001b[38;5;241;43m.\u001b[39;49m\u001b[43m_handle\u001b[49m\u001b[43m,\u001b[49m\u001b[43m \u001b[49m\u001b[43mdevice_name\u001b[49m\u001b[43m,\u001b[49m\u001b[43m \u001b[49m\u001b[43mop_name\u001b[49m\u001b[43m,\u001b[49m\n\u001b[0;32m     54\u001b[0m \u001b[43m                                      \u001b[49m\u001b[43minputs\u001b[49m\u001b[43m,\u001b[49m\u001b[43m \u001b[49m\u001b[43mattrs\u001b[49m\u001b[43m,\u001b[49m\u001b[43m \u001b[49m\u001b[43mnum_outputs\u001b[49m\u001b[43m)\u001b[49m\n\u001b[0;32m     55\u001b[0m \u001b[38;5;28;01mexcept\u001b[39;00m core\u001b[38;5;241m.\u001b[39m_NotOkStatusException \u001b[38;5;28;01mas\u001b[39;00m e:\n\u001b[0;32m     56\u001b[0m   \u001b[38;5;28;01mif\u001b[39;00m name \u001b[38;5;129;01mis\u001b[39;00m \u001b[38;5;129;01mnot\u001b[39;00m \u001b[38;5;28;01mNone\u001b[39;00m:\n",
      "\u001b[1;31mKeyboardInterrupt\u001b[0m: "
     ]
    }
   ],
   "source": [
    "model.fit(X_train, y_train, epochs=2000, callbacks=[tb_callback,cp_callback])"
   ]
  },
  {
   "cell_type": "code",
   "execution_count": 50,
   "id": "19bc9989-6c49-4515-bd4f-ea0ded6b6ed6",
   "metadata": {},
   "outputs": [
    {
     "name": "stdout",
     "output_type": "stream",
     "text": [
      "Model: \"sequential_2\"\n",
      "_________________________________________________________________\n",
      " Layer (type)                Output Shape              Param #   \n",
      "=================================================================\n",
      " lstm_6 (LSTM)               (None, 30, 64)            48896     \n",
      "                                                                 \n",
      " lstm_7 (LSTM)               (None, 30, 128)           98816     \n",
      "                                                                 \n",
      " lstm_8 (LSTM)               (None, 64)                49408     \n",
      "                                                                 \n",
      " dense_6 (Dense)             (None, 64)                4160      \n",
      "                                                                 \n",
      " dense_7 (Dense)             (None, 32)                2080      \n",
      "                                                                 \n",
      " dense_8 (Dense)             (None, 10)                330       \n",
      "                                                                 \n",
      "=================================================================\n",
      "Total params: 203690 (795.66 KB)\n",
      "Trainable params: 203690 (795.66 KB)\n",
      "Non-trainable params: 0 (0.00 Byte)\n",
      "_________________________________________________________________\n"
     ]
    }
   ],
   "source": [
    "model.summary()"
   ]
  },
  {
   "cell_type": "code",
   "execution_count": 51,
   "id": "e4669d77-5271-4645-9ca3-8400e458c981",
   "metadata": {},
   "outputs": [
    {
     "name": "stdout",
     "output_type": "stream",
     "text": [
      "2/2 [==============================] - 0s 7ms/step\n"
     ]
    }
   ],
   "source": [
    "res = model.predict(X_test)"
   ]
  },
  {
   "cell_type": "code",
   "execution_count": 52,
   "id": "096ac27f-3c2b-4f30-bea8-3827eb74d890",
   "metadata": {},
   "outputs": [
    {
     "name": "stdout",
     "output_type": "stream",
     "text": [
      "[[1.23917644e-05 4.22300473e-05 5.21674410e-05 1.86511807e-05\n",
      "  7.00881938e-05 1.40073774e-02 3.02185833e-01 6.83611333e-01\n",
      "  1.60575120e-09 5.98978245e-09]\n",
      " [7.10608531e-03 1.63936224e-02 1.35031505e-03 1.81348831e-03\n",
      "  9.39454079e-01 1.83253065e-02 2.79203778e-05 3.72707203e-04\n",
      "  1.51382023e-02 1.81367323e-05]\n",
      " [5.11916767e-07 7.29524103e-08 6.04281127e-01 3.68338883e-01\n",
      "  5.11254999e-04 7.51612999e-04 8.56503320e-05 1.25873339e-04\n",
      "  3.32367141e-03 2.25813575e-02]\n",
      " [2.83944863e-03 9.94355321e-01 6.99487117e-08 5.49337964e-10\n",
      "  5.57591775e-05 2.59112706e-03 3.16595742e-06 1.55209840e-04\n",
      "  4.21396571e-08 1.51636928e-12]\n",
      " [7.60594094e-06 1.82117176e-07 5.02575636e-01 2.96073616e-01\n",
      "  2.11083633e-03 1.46363617e-03 1.72101200e-01 2.52167527e-02\n",
      "  3.24237067e-06 4.47279075e-04]\n",
      " [1.66033613e-04 5.19568093e-05 4.41733986e-01 4.50703591e-01\n",
      "  1.61842313e-02 1.17051452e-02 1.44213100e-03 1.98826846e-03\n",
      "  3.30347046e-02 4.29899730e-02]\n",
      " [9.96765018e-01 3.23415711e-03 1.11250342e-09 1.38774374e-11\n",
      "  8.67049295e-08 4.16078061e-09 1.13940821e-07 5.71669943e-07\n",
      "  3.80339893e-09 4.24699064e-16]\n",
      " [1.19126992e-06 1.25851989e-06 3.87791533e-06 9.77677246e-07\n",
      "  2.65963558e-06 1.17121509e-03 4.15638119e-01 5.83180726e-01\n",
      "  7.28823772e-12 2.20842841e-11]\n",
      " [1.90867322e-05 4.81109419e-06 4.55114722e-01 4.79655623e-01\n",
      "  7.66399363e-03 6.23032823e-03 2.88379088e-04 4.81516152e-04\n",
      "  2.41985936e-02 2.63429768e-02]\n",
      " [4.48862139e-08 1.97277018e-07 3.06376413e-09 1.00307519e-10\n",
      "  7.76448950e-09 4.96664899e-04 6.08091801e-02 9.38693881e-01\n",
      "  6.34195696e-16 1.76938049e-16]\n",
      " [4.94098413e-06 6.98068447e-07 8.44409093e-02 8.95378292e-02\n",
      "  1.65712386e-02 1.14945497e-03 4.06203895e-07 6.62293724e-06\n",
      "  8.03498805e-01 4.78907814e-03]\n",
      " [2.39986803e-05 1.04636101e-05 4.65702593e-01 4.93363470e-01\n",
      "  5.93995163e-03 1.02272406e-02 2.56609078e-03 1.85595884e-03\n",
      "  4.78295749e-03 1.55272828e-02]\n",
      " [3.93369352e-04 1.93555967e-03 2.94727948e-03 6.65265974e-03\n",
      "  1.46097183e-01 8.36964071e-01 3.11482727e-04 1.55094103e-03\n",
      "  3.02683422e-03 1.20617675e-04]\n",
      " [5.27600319e-09 1.26052805e-06 1.26092181e-09 2.57165095e-10\n",
      "  2.24106170e-05 9.99969244e-01 3.80978804e-08 6.98559506e-06\n",
      "  9.11102617e-12 2.57042082e-13]\n",
      " [1.17203093e-03 1.05982879e-03 2.20522657e-01 4.28513288e-01\n",
      "  6.59938380e-02 2.04954877e-01 2.26818118e-02 2.72641461e-02\n",
      "  1.57514382e-02 1.20861381e-02]\n",
      " [4.64560526e-06 5.52440838e-07 5.55208504e-01 3.68080258e-01\n",
      "  2.61159986e-03 1.39355881e-03 5.37216292e-05 1.50438180e-04\n",
      "  2.68441346e-02 4.56525236e-02]\n",
      " [9.99115527e-01 8.84458423e-04 3.18350901e-11 1.97907554e-13\n",
      "  3.50907126e-09 1.09155095e-10 1.12007701e-08 6.55627446e-08\n",
      "  5.55218579e-11 6.22851440e-19]\n",
      " [1.78660935e-06 3.77391298e-05 6.98922813e-05 1.48519801e-04\n",
      "  1.55992038e-03 9.97491598e-01 2.37988555e-04 4.46492486e-04\n",
      "  4.57823262e-06 1.50815356e-06]\n",
      " [1.15646289e-05 5.13727718e-06 4.48484480e-01 5.24790466e-01\n",
      "  3.71929212e-03 5.83841093e-03 2.50976346e-03 1.53169141e-03\n",
      "  2.20549875e-03 1.09037086e-02]\n",
      " [5.83510931e-12 2.25838064e-11 1.13436818e-06 6.37146911e-07\n",
      "  6.45661839e-06 1.02043157e-06 1.98552662e-16 1.56615416e-13\n",
      "  9.99990702e-01 5.71634129e-10]\n",
      " [1.32925299e-04 1.02765902e-04 3.39620233e-01 5.54172754e-01\n",
      "  1.30774099e-02 2.88287494e-02 3.50827575e-02 1.81303192e-02\n",
      "  1.89037330e-03 8.96173436e-03]\n",
      " [2.62492847e-07 1.96477625e-08 2.56680482e-06 3.04547541e-07\n",
      "  1.74482807e-07 7.72977219e-05 7.22263515e-01 2.77655900e-01\n",
      "  1.97534507e-13 7.49516551e-13]\n",
      " [5.38857314e-09 1.42546105e-11 9.19430237e-03 1.60487799e-03\n",
      "  9.42058648e-07 3.30211060e-06 2.59812594e-09 1.73649926e-06\n",
      "  7.08447478e-04 9.88486409e-01]\n",
      " [8.30272492e-03 9.90992308e-01 9.95648065e-07 1.89015967e-08\n",
      "  1.32455461e-04 5.30190882e-04 3.66458926e-06 3.59946062e-05\n",
      "  1.60706088e-06 2.27546332e-11]\n",
      " [1.58018956e-05 2.47292587e-06 4.91602004e-01 4.20178503e-01\n",
      "  6.67437352e-03 2.97897239e-03 1.09292181e-04 2.77399464e-04\n",
      "  3.72818224e-02 4.08793911e-02]\n",
      " [1.51804556e-06 2.57204988e-07 1.83260727e-05 3.93535265e-06\n",
      "  2.76826154e-06 3.16434511e-04 7.17008471e-01 2.82648414e-01\n",
      "  1.02631731e-11 5.23247938e-11]\n",
      " [2.43915010e-11 2.26136418e-14 1.02965336e-03 1.28408923e-04\n",
      "  9.35470545e-09 6.48686651e-08 1.04238354e-11 3.39707817e-08\n",
      "  1.52985507e-04 9.98688877e-01]\n",
      " [2.28014906e-05 1.50321957e-05 3.95142436e-01 5.63159585e-01\n",
      "  6.28238823e-03 1.30500132e-02 9.01016127e-03 4.56877379e-03\n",
      "  1.49940746e-03 7.24936835e-03]\n",
      " [5.92788158e-04 2.42254487e-03 4.98439185e-03 1.12642581e-02\n",
      "  1.66190520e-01 8.06223035e-01 4.66009951e-04 2.15099333e-03\n",
      "  5.46463579e-03 2.40869151e-04]\n",
      " [7.24971244e-07 7.16711952e-08 1.43942889e-05 2.45684896e-06\n",
      "  1.20439063e-06 1.48375169e-04 7.60928750e-01 2.38904044e-01\n",
      "  2.63258035e-12 1.59216459e-11]\n",
      " [1.32970735e-02 9.86239731e-01 8.18253909e-07 1.58203566e-08\n",
      "  7.27669540e-05 3.48064495e-04 3.69883037e-06 3.65262786e-05\n",
      "  1.14258489e-06 1.62171682e-11]\n",
      " [8.18516637e-05 1.46248715e-03 2.60468496e-05 2.27926394e-05\n",
      "  4.50098887e-02 9.52390850e-01 4.84882039e-05 9.52008471e-04\n",
      "  5.39733855e-06 1.56828648e-07]\n",
      " [1.09589010e-07 1.98875725e-08 4.19938087e-01 5.77409685e-01\n",
      "  4.60789684e-04 3.21165018e-04 4.90763108e-04 2.52427388e-04\n",
      "  2.92967670e-05 1.09765015e-03]\n",
      " [7.28636188e-03 9.90771770e-01 9.06994671e-07 1.48372585e-08\n",
      "  1.77119728e-04 1.66751491e-03 5.63910999e-06 8.97277278e-05\n",
      "  9.49449600e-07 4.24400619e-11]\n",
      " [3.52826879e-10 1.00293808e-10 5.94334051e-05 2.92922668e-05\n",
      "  2.60389497e-05 3.88577018e-06 1.24006857e-13 8.34676148e-11\n",
      "  9.99879479e-01 1.95142434e-06]\n",
      " [3.34684439e-02 9.34862271e-02 3.46930861e-03 3.98440845e-03\n",
      "  7.52084196e-01 9.78019610e-02 1.20952795e-03 7.98369199e-03\n",
      "  6.39803940e-03 1.14192073e-04]\n",
      " [4.10289562e-04 2.71994877e-03 2.35065562e-03 2.05749110e-03\n",
      "  5.74150635e-03 2.73103327e-01 2.42231384e-01 4.71346170e-01\n",
      "  1.05988720e-05 2.86490686e-05]\n",
      " [2.99393510e-09 2.43875292e-07 9.81346034e-07 3.60300760e-06\n",
      "  1.09802779e-04 9.99873519e-01 3.95921370e-06 7.78943195e-06\n",
      "  2.74925167e-08 5.37581446e-09]\n",
      " [1.24186554e-05 4.48866331e-06 4.39516932e-01 5.39368808e-01\n",
      "  3.21935164e-03 2.47034174e-03 5.85436821e-03 2.75837770e-03\n",
      "  6.08387985e-04 6.18649740e-03]\n",
      " [9.99267042e-01 7.32853776e-04 2.41896607e-11 1.40815135e-13\n",
      "  2.71929901e-09 7.65960559e-11 9.05164121e-09 5.18460510e-08\n",
      "  3.96856263e-11 3.64227088e-19]\n",
      " [2.42678433e-09 1.26847444e-09 1.88727034e-04 1.94593304e-04\n",
      "  3.23845452e-04 3.03932466e-05 3.01875495e-12 6.00592243e-10\n",
      "  9.99260008e-01 2.36596429e-06]\n",
      " [2.65315687e-03 1.62725162e-03 1.18293799e-01 2.37993002e-01\n",
      "  3.73684406e-01 7.71256834e-02 8.16717569e-04 3.09309619e-03\n",
      "  1.76694959e-01 8.01795907e-03]\n",
      " [1.52326736e-03 4.39023226e-03 2.90121417e-04 5.40635199e-04\n",
      "  9.74695861e-01 1.59265622e-02 4.66706433e-06 9.83397767e-05\n",
      "  2.52809981e-03 2.24039286e-06]\n",
      " [1.49484886e-05 1.10646897e-06 4.65674728e-01 4.87009168e-01\n",
      "  3.65418172e-03 1.23313221e-03 3.20653580e-02 8.59475881e-03\n",
      "  4.48621322e-05 1.70770043e-03]\n",
      " [3.89890204e-07 3.52247689e-08 4.67651755e-01 5.28854847e-01\n",
      "  5.94659010e-04 3.35950783e-04 6.67478598e-04 3.15414858e-04\n",
      "  4.05974170e-05 1.53894804e-03]]\n"
     ]
    }
   ],
   "source": [
    "print(res)"
   ]
  },
  {
   "cell_type": "code",
   "execution_count": 53,
   "id": "a195634c-1415-444f-8e64-8cb4fc68bc8a",
   "metadata": {},
   "outputs": [
    {
     "data": {
      "text/plain": [
       "'ඇ'"
      ]
     },
     "execution_count": 53,
     "metadata": {},
     "output_type": "execute_result"
    }
   ],
   "source": [
    "actions[np.argmax(res[4])]"
   ]
  },
  {
   "cell_type": "code",
   "execution_count": 54,
   "id": "935cfdd7-42d2-46bf-b916-8c62f085d083",
   "metadata": {},
   "outputs": [
    {
     "data": {
      "text/plain": [
       "'ඈ'"
      ]
     },
     "execution_count": 54,
     "metadata": {},
     "output_type": "execute_result"
    }
   ],
   "source": [
    "actions[np.argmax(y_test[4])]"
   ]
  },
  {
   "cell_type": "code",
   "execution_count": 55,
   "id": "ad5257da-0232-4608-84b6-2f446c25d7b7",
   "metadata": {},
   "outputs": [],
   "source": [
    "model.save('action.h5')"
   ]
  },
  {
   "cell_type": "code",
   "execution_count": 56,
   "id": "b6edbaba-a134-4a22-9f5e-cd582a63afc0",
   "metadata": {},
   "outputs": [],
   "source": [
    "model = load_model('action.h5')"
   ]
  },
  {
   "cell_type": "code",
   "execution_count": 57,
   "id": "370bb676-4dfd-42db-943f-aea49f5697f0",
   "metadata": {},
   "outputs": [],
   "source": [
    "from sklearn.metrics import multilabel_confusion_matrix, accuracy_score"
   ]
  },
  {
   "cell_type": "code",
   "execution_count": 58,
   "id": "23575231-75b7-4447-aef9-d668093dd2f2",
   "metadata": {},
   "outputs": [
    {
     "name": "stdout",
     "output_type": "stream",
     "text": [
      "27/27 [==============================] - 1s 9ms/step\n"
     ]
    }
   ],
   "source": [
    "yhat = model.predict(X_train)"
   ]
  },
  {
   "cell_type": "code",
   "execution_count": 59,
   "id": "a0a4e4e8-fd0a-4549-a260-de6356d2af2d",
   "metadata": {},
   "outputs": [],
   "source": [
    "ytrue = np.argmax(y_train, axis=1).tolist()\n",
    "yhat = np.argmax(yhat, axis=1).tolist()"
   ]
  },
  {
   "cell_type": "code",
   "execution_count": 60,
   "id": "2828a740-282c-4545-8fe1-24758180f1c9",
   "metadata": {},
   "outputs": [
    {
     "data": {
      "text/plain": [
       "array([[[768,   0],\n",
       "        [  3,  84]],\n",
       "\n",
       "       [[767,   2],\n",
       "        [  0,  86]],\n",
       "\n",
       "       [[748,  23],\n",
       "        [ 44,  40]],\n",
       "\n",
       "       [[731,  44],\n",
       "        [ 27,  53]],\n",
       "\n",
       "       [[765,   3],\n",
       "        [  5,  82]],\n",
       "\n",
       "       [[761,  10],\n",
       "        [  1,  83]],\n",
       "\n",
       "       [[748,  20],\n",
       "        [ 30,  57]],\n",
       "\n",
       "       [[739,  30],\n",
       "        [ 18,  68]],\n",
       "\n",
       "       [[768,   0],\n",
       "        [  1,  86]],\n",
       "\n",
       "       [[768,   0],\n",
       "        [  3,  84]]], dtype=int64)"
      ]
     },
     "execution_count": 60,
     "metadata": {},
     "output_type": "execute_result"
    }
   ],
   "source": [
    "multilabel_confusion_matrix(ytrue, yhat)"
   ]
  },
  {
   "cell_type": "code",
   "execution_count": 61,
   "id": "dc4d43c6-4530-4cad-9c8a-ab98654a85fc",
   "metadata": {},
   "outputs": [
    {
     "data": {
      "text/plain": [
       "0.8456140350877193"
      ]
     },
     "execution_count": 61,
     "metadata": {},
     "output_type": "execute_result"
    }
   ],
   "source": [
    "\n",
    "accuracy_score(ytrue, yhat)"
   ]
  },
  {
   "cell_type": "code",
   "execution_count": null,
   "id": "6708c754-1927-4da2-a143-ff64f9452121",
   "metadata": {},
   "outputs": [],
   "source": []
  }
 ],
 "metadata": {
  "kernelspec": {
   "display_name": "Python 3 (ipykernel)",
   "language": "python",
   "name": "python3"
  },
  "language_info": {
   "codemirror_mode": {
    "name": "ipython",
    "version": 3
   },
   "file_extension": ".py",
   "mimetype": "text/x-python",
   "name": "python",
   "nbconvert_exporter": "python",
   "pygments_lexer": "ipython3",
   "version": "3.11.5"
  }
 },
 "nbformat": 4,
 "nbformat_minor": 5
}
