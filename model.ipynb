{
 "cells": [
  {
   "cell_type": "code",
   "execution_count": null,
   "id": "92685b2e-4045-470b-9152-249bed13b3cb",
   "metadata": {},
   "outputs": [],
   "source": [
    "from sklearn.model_selection import train_test_split\n",
    "from tensorflow.keras.utils import to_categorical"
   ]
  },
  {
   "cell_type": "code",
   "execution_count": null,
   "id": "1815474c-8997-49ed-a755-2cdac1ac10e7",
   "metadata": {},
   "outputs": [],
   "source": [
    "label_map = {label:num for num, label in enumerate(actions)}"
   ]
  },
  {
   "cell_type": "code",
   "execution_count": null,
   "id": "7fedd6f5-1e80-4aa3-9983-e6e9705824f3",
   "metadata": {},
   "outputs": [],
   "source": [
    "sequences, labels = [], []\n",
    "# loop each action\n",
    "for action in actions:\n",
    "    # Loop through the each action sequence(videos)\n",
    "    for sequence in np.array(os.listdir(os.path.join(DATA_PATH, action))).astype(int):\n",
    "        # this array will hold all the frame in one video\n",
    "        window = []\n",
    "        # Loop though the each frame 30(Frame)\n",
    "        for frame_num in range(sequence_length):\n",
    "            # using np.load function load the saved np array from folder (path,which action,which video number,which frame number)\n",
    "            res = np.load(os.path.join(DATA_PATH, action, str(sequence), \"{}.npy\".format(frame_num)))\n",
    "            # add loaded framee to window\n",
    "            window.append(res)\n",
    "        #    \n",
    "        sequences.append(window)\n",
    "        labels.append(label_map[action])"
   ]
  },
  {
   "cell_type": "code",
   "execution_count": null,
   "id": "3bdf1a2d-250c-4c15-842c-c0d082ac0335",
   "metadata": {},
   "outputs": [],
   "source": [
    "# shape should be 90 videos,30 frame each,1353 key points in a frame\n",
    "np.array(sequences).shape"
   ]
  },
  {
   "cell_type": "code",
   "execution_count": null,
   "id": "d2ff4474-ec3a-4a90-9f1b-8b0b3e5ea236",
   "metadata": {},
   "outputs": [],
   "source": [
    "np.array(labels).shape"
   ]
  },
  {
   "cell_type": "code",
   "execution_count": null,
   "id": "bac8d493-963a-4d22-994b-ea1e5858f520",
   "metadata": {},
   "outputs": [],
   "source": [
    "X = np.array(sequences)"
   ]
  },
  {
   "cell_type": "code",
   "execution_count": null,
   "id": "23f4a7be-6c56-4c5d-8fa6-12618b51629e",
   "metadata": {},
   "outputs": [],
   "source": [
    "y = to_categorical(labels).astype(int)"
   ]
  },
  {
   "cell_type": "code",
   "execution_count": null,
   "id": "82488487-bc69-4f79-9ed9-57ee248480b0",
   "metadata": {},
   "outputs": [],
   "source": [
    "X_train, X_test, y_train, y_test = train_test_split(X, y, test_size=0.05)"
   ]
  },
  {
   "cell_type": "code",
   "execution_count": null,
   "id": "6e1b1bee-2972-4b04-a334-8c0c4b3219ec",
   "metadata": {},
   "outputs": [],
   "source": [
    "from tensorflow.keras.models import Sequential\n",
    "# Make us able to action detection\n",
    "from tensorflow.keras.layers import LSTM, Dense\n",
    "# Make us able to monitor our modle during taining\n",
    "from tensorflow.keras.callbacks import TensorBoard"
   ]
  },
  {
   "cell_type": "code",
   "execution_count": null,
   "id": "b29a3138-fd0d-4e78-9b8b-617061c996e2",
   "metadata": {},
   "outputs": [],
   "source": [
    "log_dir = os.path.join('Logs')\n",
    "tb_callback = TensorBoard(log_dir=log_dir)"
   ]
  },
  {
   "cell_type": "code",
   "execution_count": null,
   "id": "4732931e-fce3-445e-b13e-303e4fd0c02b",
   "metadata": {},
   "outputs": [],
   "source": [
    "# load Sequential api\n",
    "model = Sequential()\n",
    "# add 3 layers of lstm model\n",
    "model.add(LSTM(64, return_sequences=True, activation='relu', input_shape=(30,1662)))\n",
    "model.add(LSTM(128, return_sequences=True, activation='relu'))\n",
    "model.add(LSTM(64, return_sequences=False, activation='relu'))\n",
    "model.add(Dense(64, activation='relu'))\n",
    "model.add(Dense(32, activation='relu'))\n",
    "model.add(Dense(actions.shape[0], activation='softmax'))"
   ]
  },
  {
   "cell_type": "code",
   "execution_count": null,
   "id": "4e630c4b-9832-47f6-a21c-88ffb137645b",
   "metadata": {},
   "outputs": [],
   "source": [
    "model.compile(optimizer='Adam', loss='categorical_crossentropy', metrics=['categorical_accuracy'])"
   ]
  },
  {
   "cell_type": "code",
   "execution_count": null,
   "id": "20351fc4-b899-4989-aa61-d90326965ba1",
   "metadata": {},
   "outputs": [],
   "source": [
    "model.fit(X_train, y_train, epochs=2000, callbacks=[tb_callback])"
   ]
  },
  {
   "cell_type": "code",
   "execution_count": null,
   "id": "19bc9989-6c49-4515-bd4f-ea0ded6b6ed6",
   "metadata": {},
   "outputs": [],
   "source": [
    "model.summary()"
   ]
  },
  {
   "cell_type": "code",
   "execution_count": null,
   "id": "e4669d77-5271-4645-9ca3-8400e458c981",
   "metadata": {},
   "outputs": [],
   "source": [
    "res = model.predict(X_test)"
   ]
  },
  {
   "cell_type": "code",
   "execution_count": null,
   "id": "a195634c-1415-444f-8e64-8cb4fc68bc8a",
   "metadata": {},
   "outputs": [],
   "source": [
    "actions[np.argmax(res[4])]"
   ]
  },
  {
   "cell_type": "code",
   "execution_count": null,
   "id": "935cfdd7-42d2-46bf-b916-8c62f085d083",
   "metadata": {},
   "outputs": [],
   "source": [
    "actions[np.argmax(y_test[4])]"
   ]
  },
  {
   "cell_type": "code",
   "execution_count": null,
   "id": "ad5257da-0232-4608-84b6-2f446c25d7b7",
   "metadata": {},
   "outputs": [],
   "source": [
    "model.save('action.h5')"
   ]
  }
 ],
 "metadata": {
  "kernelspec": {
   "display_name": "Python 3 (ipykernel)",
   "language": "python",
   "name": "python3"
  },
  "language_info": {
   "codemirror_mode": {
    "name": "ipython",
    "version": 3
   },
   "file_extension": ".py",
   "mimetype": "text/x-python",
   "name": "python",
   "nbconvert_exporter": "python",
   "pygments_lexer": "ipython3",
   "version": "3.11.5"
  }
 },
 "nbformat": 4,
 "nbformat_minor": 5
}
